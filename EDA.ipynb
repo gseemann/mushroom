{
 "cells": [
  {
   "cell_type": "code",
   "execution_count": 83,
   "metadata": {
    "ExecuteTime": {
     "end_time": "2020-07-07T00:55:27.896422Z",
     "start_time": "2020-07-07T00:55:27.887254Z"
    }
   },
   "outputs": [],
   "source": [
    "import pandas as pd\n",
    "import numpy as np\n",
    "import seaborn as sns\n",
    "np.random.seed(0)\n",
    "import matplotlib.pyplot as plt\n",
    "from sklearn.model_selection import train_test_split\n",
    "from sklearn.metrics import accuracy_score, confusion_matrix, classification_report\n",
    "from sklearn.tree import DecisionTreeClassifier\n",
    "from sklearn.ensemble import BaggingClassifier, RandomForestClassifier\n",
    "#for roc and auc\n",
    "from sklearn import metrics\n",
    "\n",
    "#below needed to display decision tree\n",
    "from sklearn.externals.six import StringIO  \n",
    "from IPython.display import Image  \n",
    "from sklearn.tree import export_graphviz\n",
    "import pydotplus\n",
    "# from sklearn.metrics import mean_squared_error\n",
    "\n",
    "import json\n",
    "import requests\n",
    "from bs4 import BeautifulSoup\n",
    "\n",
    "#import my function files\n",
    "import webscrape_wiki_table\n",
    "import config\n",
    "import query_helper\n",
    "import time\n",
    "\n",
    "#utilities file for timer\n",
    "from utilities import *"
   ]
  },
  {
   "cell_type": "markdown",
   "metadata": {},
   "source": [
    "### Clean mushroom data"
   ]
  },
  {
   "cell_type": "code",
   "execution_count": 84,
   "metadata": {
    "ExecuteTime": {
     "end_time": "2020-07-07T00:55:27.901007Z",
     "start_time": "2020-07-07T00:55:27.898507Z"
    },
    "code_folding": [
     0
    ]
   },
   "outputs": [],
   "source": [
    "hymeniumType =  ['gills'   \n",
    "                ,'pores'\n",
    "                ,'smooth'\n",
    "                ,'ridges'\n",
    "                ,'teeth'\n",
    "                ,'gleba']"
   ]
  },
  {
   "cell_type": "code",
   "execution_count": 85,
   "metadata": {
    "ExecuteTime": {
     "end_time": "2020-07-07T00:55:27.907814Z",
     "start_time": "2020-07-07T00:55:27.904879Z"
    },
    "code_folding": [
     0
    ]
   },
   "outputs": [],
   "source": [
    "capShape =  ['campanulate'\n",
    "            ,'conical'\n",
    "            ,'convex'\n",
    "            ,'depressed'\n",
    "            ,'flat'\n",
    "            ,'infundibuliform'\n",
    "            ,'offset'\n",
    "            ,'ovate'\n",
    "            ,'umbilicate'\n",
    "            ,'umbonate'\n",
    "            ,'no'\n",
    "            ,'NA']"
   ]
  },
  {
   "cell_type": "code",
   "execution_count": 86,
   "metadata": {
    "ExecuteTime": {
     "end_time": "2020-07-07T00:55:27.914440Z",
     "start_time": "2020-07-07T00:55:27.911753Z"
    },
    "code_folding": [
     0
    ]
   },
   "outputs": [],
   "source": [
    "whichGills = ['adnate'\n",
    "            ,'adnexed'\n",
    "            ,'decurrent'\n",
    "            ,'emarginate'\n",
    "            ,'free'\n",
    "            ,'seceding'\n",
    "            ,'sinuate'\n",
    "            ,'subdecurrent'\n",
    "            ,'no'\n",
    "            ,'NA']"
   ]
  },
  {
   "cell_type": "code",
   "execution_count": 87,
   "metadata": {
    "ExecuteTime": {
     "end_time": "2020-07-07T00:55:27.920750Z",
     "start_time": "2020-07-07T00:55:27.918321Z"
    },
    "code_folding": [
     0
    ]
   },
   "outputs": [],
   "source": [
    "stipeCharacter = ['bare'\n",
    "                ,'ring'\n",
    "                ,'volva'\n",
    "                ,'ring_and_volva'\n",
    "                ,'cortina'\n",
    "                ,'NA']"
   ]
  },
  {
   "cell_type": "code",
   "execution_count": 88,
   "metadata": {
    "ExecuteTime": {
     "end_time": "2020-07-07T00:55:27.928815Z",
     "start_time": "2020-07-07T00:55:27.925740Z"
    },
    "code_folding": [
     0
    ]
   },
   "outputs": [],
   "source": [
    "sporePrintColor = ['black'\n",
    "                    ,'blackish-brown'\n",
    "                    ,'brown'\n",
    "                    ,'buff'\n",
    "                    ,'cream'\n",
    "                    ,'green'\n",
    "                    ,'ochre'\n",
    "                    ,'olive'\n",
    "                    ,'olive-brown'\n",
    "                    ,'pink'\n",
    "                    ,'pinkish-brown'\n",
    "                    ,'purple'\n",
    "                    ,'purple-black'\n",
    "                    ,'purple-brown'\n",
    "                    ,'reddish-brown'\n",
    "                    ,'salmon'\n",
    "                    ,'tan'\n",
    "                    ,'white'\n",
    "                    ,'yellow'\n",
    "                    ,'yellow-orange'\n",
    "                    ,'yellow-brown']"
   ]
  },
  {
   "cell_type": "code",
   "execution_count": 89,
   "metadata": {
    "ExecuteTime": {
     "end_time": "2020-07-07T00:55:27.935294Z",
     "start_time": "2020-07-07T00:55:27.932913Z"
    },
    "code_folding": [
     0
    ]
   },
   "outputs": [],
   "source": [
    "ecologicalType =['mycorrhizal'\n",
    "                ,'parasitic'\n",
    "                ,'saprotrophic']"
   ]
  },
  {
   "cell_type": "code",
   "execution_count": 90,
   "metadata": {
    "ExecuteTime": {
     "end_time": "2020-07-07T00:55:27.943222Z",
     "start_time": "2020-07-07T00:55:27.940539Z"
    },
    "code_folding": []
   },
   "outputs": [],
   "source": [
    "howEdible = ['choice'\n",
    "            ,'edible'\n",
    "            ,'inedible'\n",
    "            ,'unpalatable'\n",
    "            ,'caution'\n",
    "            ,'psychoactive'\n",
    "            ,'poisonous'\n",
    "            ,'allergenic'\n",
    "            ,'deadly'\n",
    "            ,'unknown']"
   ]
  },
  {
   "cell_type": "code",
   "execution_count": 91,
   "metadata": {
    "ExecuteTime": {
     "end_time": "2020-07-07T00:55:27.950090Z",
     "start_time": "2020-07-07T00:55:27.947615Z"
    }
   },
   "outputs": [],
   "source": [
    "mushroom_features = [hymeniumType, capShape, whichGills, stipeCharacter, sporePrintColor, ecologicalType, howEdible]"
   ]
  },
  {
   "cell_type": "code",
   "execution_count": 92,
   "metadata": {
    "ExecuteTime": {
     "end_time": "2020-07-07T00:55:27.956752Z",
     "start_time": "2020-07-07T00:55:27.954597Z"
    }
   },
   "outputs": [],
   "source": [
    "query ='''SELECT * FROM mushroom.wiki_mush;)'''"
   ]
  },
  {
   "cell_type": "code",
   "execution_count": 93,
   "metadata": {
    "ExecuteTime": {
     "end_time": "2020-07-07T00:55:28.282991Z",
     "start_time": "2020-07-07T00:55:27.963127Z"
    },
    "scrolled": true
   },
   "outputs": [
    {
     "data": {
      "text/html": [
       "<div>\n",
       "<style scoped>\n",
       "    .dataframe tbody tr th:only-of-type {\n",
       "        vertical-align: middle;\n",
       "    }\n",
       "\n",
       "    .dataframe tbody tr th {\n",
       "        vertical-align: top;\n",
       "    }\n",
       "\n",
       "    .dataframe thead th {\n",
       "        text-align: right;\n",
       "    }\n",
       "</style>\n",
       "<table border=\"1\" class=\"dataframe\">\n",
       "  <thead>\n",
       "    <tr style=\"text-align: right;\">\n",
       "      <th></th>\n",
       "      <th>name</th>\n",
       "      <th>hymeniumType</th>\n",
       "      <th>capShape</th>\n",
       "      <th>whichGills</th>\n",
       "      <th>stipeCharacter</th>\n",
       "      <th>sporePrintColor</th>\n",
       "      <th>ecologicalType</th>\n",
       "      <th>howEdible</th>\n",
       "    </tr>\n",
       "  </thead>\n",
       "  <tbody>\n",
       "    <tr>\n",
       "      <th>0</th>\n",
       "      <td>Lysurus mokusin</td>\n",
       "      <td>smooth hymenium</td>\n",
       "      <td>no distinct cap</td>\n",
       "      <td>hymenium attachment is irregular or not applic...</td>\n",
       "      <td>stipe is bare</td>\n",
       "      <td>spore print is olive-brown</td>\n",
       "      <td>ecology is saprotrophic</td>\n",
       "      <td>edibility: unknown</td>\n",
       "    </tr>\n",
       "    <tr>\n",
       "      <th>1</th>\n",
       "      <td>Agaricus abruptibulbus</td>\n",
       "      <td>gills on hymenium</td>\n",
       "      <td>cap is convex\\n   or flat</td>\n",
       "      <td>hymenium is free</td>\n",
       "      <td>stipe has a ring</td>\n",
       "      <td>spore print is brown</td>\n",
       "      <td>ecology is saprotrophic</td>\n",
       "      <td>edibility: edible</td>\n",
       "    </tr>\n",
       "    <tr>\n",
       "      <th>2</th>\n",
       "      <td>Agaricus amicosus</td>\n",
       "      <td>gills on hymenium</td>\n",
       "      <td>cap is convex\\n   or flat</td>\n",
       "      <td>hymenium is free</td>\n",
       "      <td>stipe has a ring</td>\n",
       "      <td>spore print is brown</td>\n",
       "      <td>ecology is saprotrophic</td>\n",
       "      <td>edibility: choice</td>\n",
       "    </tr>\n",
       "    <tr>\n",
       "      <th>3</th>\n",
       "      <td>Agaricus arvensis</td>\n",
       "      <td>gills on hymenium</td>\n",
       "      <td>cap is convex</td>\n",
       "      <td>hymenium is free</td>\n",
       "      <td>stipe has a ring</td>\n",
       "      <td>spore print is brown\\n   to blackish-brown</td>\n",
       "      <td>ecology is saprotrophic</td>\n",
       "      <td>edibility: choice</td>\n",
       "    </tr>\n",
       "    <tr>\n",
       "      <th>4</th>\n",
       "      <td>Agaricus augustus</td>\n",
       "      <td>gills on hymenium</td>\n",
       "      <td>cap is convex</td>\n",
       "      <td>hymenium is free</td>\n",
       "      <td>stipe has a ring</td>\n",
       "      <td>spore print is brown</td>\n",
       "      <td>ecology is saprotrophic</td>\n",
       "      <td>edibility: edible</td>\n",
       "    </tr>\n",
       "  </tbody>\n",
       "</table>\n",
       "</div>"
      ],
      "text/plain": [
       "                     name       hymeniumType                   capShape  \\\n",
       "0         Lysurus mokusin    smooth hymenium            no distinct cap   \n",
       "1  Agaricus abruptibulbus  gills on hymenium  cap is convex\\n   or flat   \n",
       "2       Agaricus amicosus  gills on hymenium  cap is convex\\n   or flat   \n",
       "3       Agaricus arvensis  gills on hymenium              cap is convex   \n",
       "4       Agaricus augustus  gills on hymenium              cap is convex   \n",
       "\n",
       "                                          whichGills    stipeCharacter  \\\n",
       "0  hymenium attachment is irregular or not applic...     stipe is bare   \n",
       "1                                   hymenium is free  stipe has a ring   \n",
       "2                                   hymenium is free  stipe has a ring   \n",
       "3                                   hymenium is free  stipe has a ring   \n",
       "4                                   hymenium is free  stipe has a ring   \n",
       "\n",
       "                              sporePrintColor           ecologicalType  \\\n",
       "0                  spore print is olive-brown  ecology is saprotrophic   \n",
       "1                        spore print is brown  ecology is saprotrophic   \n",
       "2                        spore print is brown  ecology is saprotrophic   \n",
       "3  spore print is brown\\n   to blackish-brown  ecology is saprotrophic   \n",
       "4                        spore print is brown  ecology is saprotrophic   \n",
       "\n",
       "            howEdible  \n",
       "0  edibility: unknown  \n",
       "1   edibility: edible  \n",
       "2   edibility: choice  \n",
       "3   edibility: choice  \n",
       "4   edibility: edible  "
      ]
     },
     "execution_count": 93,
     "metadata": {},
     "output_type": "execute_result"
    }
   ],
   "source": [
    "df = query_helper.query_to_df(query)\n",
    "df.to_csv('wiki_mush_db.csv')      #saves the file for use later without needing to connect to AWS db\n",
    "df.head()"
   ]
  },
  {
   "cell_type": "markdown",
   "metadata": {},
   "source": [
    "## Take feature out of each string"
   ]
  },
  {
   "cell_type": "code",
   "execution_count": 94,
   "metadata": {
    "ExecuteTime": {
     "end_time": "2020-07-07T00:55:28.288543Z",
     "start_time": "2020-07-07T00:55:28.284991Z"
    },
    "code_folding": []
   },
   "outputs": [],
   "source": [
    "#pull feature out of string **LIMITED TO FIRST MATCH CURRENTLY\n",
    "def get_feature_type(feature, x):\n",
    "    #clean string\n",
    "    s = x.replace('\\n', ' ') \n",
    "    s = s.split()\n",
    "    \n",
    "    #look at each word to find match\n",
    "    for catagory in feature:\n",
    "        if catagory in s:\n",
    "            feat = catagory\n",
    "            return feat\n",
    "    return 'na'"
   ]
  },
  {
   "cell_type": "code",
   "execution_count": 95,
   "metadata": {
    "ExecuteTime": {
     "end_time": "2020-07-07T00:55:28.302202Z",
     "start_time": "2020-07-07T00:55:28.290873Z"
    }
   },
   "outputs": [],
   "source": [
    "for features, col in zip(mushroom_features, df.columns[1:]):\n",
    "#     print(i)\n",
    "    df[col] = df[col].apply(lambda x: get_feature_type(features, x))"
   ]
  },
  {
   "cell_type": "code",
   "execution_count": 96,
   "metadata": {
    "ExecuteTime": {
     "end_time": "2020-07-07T00:55:28.309495Z",
     "start_time": "2020-07-07T00:55:28.304344Z"
    }
   },
   "outputs": [
    {
     "data": {
      "text/plain": [
       "adnate          241\n",
       "free            140\n",
       "decurrent       113\n",
       "adnexed          82\n",
       "na               56\n",
       "emarginate        5\n",
       "seceding          2\n",
       "subdecurrent      2\n",
       "sinuate           1\n",
       "Name: whichGills, dtype: int64"
      ]
     },
     "execution_count": 96,
     "metadata": {},
     "output_type": "execute_result"
    }
   ],
   "source": [
    "df.whichGills.value_counts()"
   ]
  },
  {
   "cell_type": "code",
   "execution_count": 97,
   "metadata": {
    "ExecuteTime": {
     "end_time": "2020-07-07T00:55:28.314801Z",
     "start_time": "2020-07-07T00:55:28.311175Z"
    }
   },
   "outputs": [
    {
     "data": {
      "text/plain": [
       "(642, 8)"
      ]
     },
     "execution_count": 97,
     "metadata": {},
     "output_type": "execute_result"
    }
   ],
   "source": [
    "df.shape"
   ]
  },
  {
   "cell_type": "code",
   "execution_count": null,
   "metadata": {},
   "outputs": [],
   "source": []
  },
  {
   "cell_type": "markdown",
   "metadata": {},
   "source": [
    "### Get genus from name"
   ]
  },
  {
   "cell_type": "code",
   "execution_count": 98,
   "metadata": {
    "ExecuteTime": {
     "end_time": "2020-07-07T00:55:28.322128Z",
     "start_time": "2020-07-07T00:55:28.316735Z"
    }
   },
   "outputs": [],
   "source": [
    "df['genus']= '0'\n",
    "df['genus']= df['name'].apply(lambda x: (x.split()[0]) if len(x.split())==2 else x)"
   ]
  },
  {
   "cell_type": "code",
   "execution_count": 99,
   "metadata": {
    "ExecuteTime": {
     "end_time": "2020-07-07T00:55:28.335593Z",
     "start_time": "2020-07-07T00:55:28.323849Z"
    },
    "scrolled": true
   },
   "outputs": [
    {
     "data": {
      "text/html": [
       "<div>\n",
       "<style scoped>\n",
       "    .dataframe tbody tr th:only-of-type {\n",
       "        vertical-align: middle;\n",
       "    }\n",
       "\n",
       "    .dataframe tbody tr th {\n",
       "        vertical-align: top;\n",
       "    }\n",
       "\n",
       "    .dataframe thead th {\n",
       "        text-align: right;\n",
       "    }\n",
       "</style>\n",
       "<table border=\"1\" class=\"dataframe\">\n",
       "  <thead>\n",
       "    <tr style=\"text-align: right;\">\n",
       "      <th></th>\n",
       "      <th>name</th>\n",
       "      <th>hymeniumType</th>\n",
       "      <th>capShape</th>\n",
       "      <th>whichGills</th>\n",
       "      <th>stipeCharacter</th>\n",
       "      <th>sporePrintColor</th>\n",
       "      <th>ecologicalType</th>\n",
       "      <th>howEdible</th>\n",
       "      <th>genus</th>\n",
       "    </tr>\n",
       "  </thead>\n",
       "  <tbody>\n",
       "    <tr>\n",
       "      <th>0</th>\n",
       "      <td>Lysurus mokusin</td>\n",
       "      <td>smooth</td>\n",
       "      <td>no</td>\n",
       "      <td>na</td>\n",
       "      <td>bare</td>\n",
       "      <td>olive-brown</td>\n",
       "      <td>saprotrophic</td>\n",
       "      <td>unknown</td>\n",
       "      <td>Lysurus</td>\n",
       "    </tr>\n",
       "    <tr>\n",
       "      <th>1</th>\n",
       "      <td>Agaricus abruptibulbus</td>\n",
       "      <td>gills</td>\n",
       "      <td>convex</td>\n",
       "      <td>free</td>\n",
       "      <td>ring</td>\n",
       "      <td>brown</td>\n",
       "      <td>saprotrophic</td>\n",
       "      <td>edible</td>\n",
       "      <td>Agaricus</td>\n",
       "    </tr>\n",
       "    <tr>\n",
       "      <th>2</th>\n",
       "      <td>Agaricus amicosus</td>\n",
       "      <td>gills</td>\n",
       "      <td>convex</td>\n",
       "      <td>free</td>\n",
       "      <td>ring</td>\n",
       "      <td>brown</td>\n",
       "      <td>saprotrophic</td>\n",
       "      <td>choice</td>\n",
       "      <td>Agaricus</td>\n",
       "    </tr>\n",
       "    <tr>\n",
       "      <th>3</th>\n",
       "      <td>Agaricus arvensis</td>\n",
       "      <td>gills</td>\n",
       "      <td>convex</td>\n",
       "      <td>free</td>\n",
       "      <td>ring</td>\n",
       "      <td>blackish-brown</td>\n",
       "      <td>saprotrophic</td>\n",
       "      <td>choice</td>\n",
       "      <td>Agaricus</td>\n",
       "    </tr>\n",
       "    <tr>\n",
       "      <th>4</th>\n",
       "      <td>Agaricus augustus</td>\n",
       "      <td>gills</td>\n",
       "      <td>convex</td>\n",
       "      <td>free</td>\n",
       "      <td>ring</td>\n",
       "      <td>brown</td>\n",
       "      <td>saprotrophic</td>\n",
       "      <td>edible</td>\n",
       "      <td>Agaricus</td>\n",
       "    </tr>\n",
       "  </tbody>\n",
       "</table>\n",
       "</div>"
      ],
      "text/plain": [
       "                     name hymeniumType capShape whichGills stipeCharacter  \\\n",
       "0         Lysurus mokusin       smooth       no         na           bare   \n",
       "1  Agaricus abruptibulbus        gills   convex       free           ring   \n",
       "2       Agaricus amicosus        gills   convex       free           ring   \n",
       "3       Agaricus arvensis        gills   convex       free           ring   \n",
       "4       Agaricus augustus        gills   convex       free           ring   \n",
       "\n",
       "  sporePrintColor ecologicalType howEdible     genus  \n",
       "0     olive-brown   saprotrophic   unknown   Lysurus  \n",
       "1           brown   saprotrophic    edible  Agaricus  \n",
       "2           brown   saprotrophic    choice  Agaricus  \n",
       "3  blackish-brown   saprotrophic    choice  Agaricus  \n",
       "4           brown   saprotrophic    edible  Agaricus  "
      ]
     },
     "execution_count": 99,
     "metadata": {},
     "output_type": "execute_result"
    }
   ],
   "source": [
    "df.head()"
   ]
  },
  {
   "cell_type": "markdown",
   "metadata": {},
   "source": [
    "#### Drop erroroneous names"
   ]
  },
  {
   "cell_type": "code",
   "execution_count": 100,
   "metadata": {
    "ExecuteTime": {
     "end_time": "2020-07-07T00:55:28.342811Z",
     "start_time": "2020-07-07T00:55:28.339131Z"
    }
   },
   "outputs": [],
   "source": [
    "index_to_drop = df[df['name']=='var.'].index"
   ]
  },
  {
   "cell_type": "code",
   "execution_count": 101,
   "metadata": {
    "ExecuteTime": {
     "end_time": "2020-07-07T00:55:28.348457Z",
     "start_time": "2020-07-07T00:55:28.345357Z"
    }
   },
   "outputs": [],
   "source": [
    "df.drop(index_to_drop, inplace=True)"
   ]
  },
  {
   "cell_type": "markdown",
   "metadata": {},
   "source": [
    "#### Create list of genus only entries"
   ]
  },
  {
   "cell_type": "code",
   "execution_count": 102,
   "metadata": {
    "ExecuteTime": {
     "end_time": "2020-07-07T00:55:28.353114Z",
     "start_time": "2020-07-07T00:55:28.350088Z"
    }
   },
   "outputs": [],
   "source": [
    "bool_list = [True if len(name.split())==1 else False for name in df.name]"
   ]
  },
  {
   "cell_type": "code",
   "execution_count": 103,
   "metadata": {
    "ExecuteTime": {
     "end_time": "2020-07-07T00:55:28.358128Z",
     "start_time": "2020-07-07T00:55:28.354713Z"
    }
   },
   "outputs": [],
   "source": [
    "genus_names =list(df[bool_list].name.values)"
   ]
  },
  {
   "cell_type": "code",
   "execution_count": 104,
   "metadata": {
    "ExecuteTime": {
     "end_time": "2020-07-07T00:55:28.363291Z",
     "start_time": "2020-07-07T00:55:28.359695Z"
    }
   },
   "outputs": [
    {
     "data": {
      "text/plain": [
       "['Armillaria',\n",
       " 'Blusher',\n",
       " 'Caloscypha',\n",
       " 'Cantharellus',\n",
       " 'Craterellus',\n",
       " 'Enokitake',\n",
       " 'Galerina',\n",
       " 'Matsutake',\n",
       " 'Melanoleuca',\n",
       " 'Mythicomyces',\n",
       " 'Nidulariaceae',\n",
       " 'Orellani',\n",
       " 'pantherina',\n",
       " 'Paragyrodon',\n",
       " 'Phaeolepiota',\n",
       " 'Pluteus',\n",
       " 'Polyozellus',\n",
       " 'Rhodotus',\n",
       " 'Shiitake',\n",
       " 'Volvopluteus']"
      ]
     },
     "execution_count": 104,
     "metadata": {},
     "output_type": "execute_result"
    }
   ],
   "source": [
    "genus_names"
   ]
  },
  {
   "cell_type": "markdown",
   "metadata": {},
   "source": [
    "#### Get other genus' and combine into list of unique genus"
   ]
  },
  {
   "cell_type": "code",
   "execution_count": 105,
   "metadata": {
    "ExecuteTime": {
     "end_time": "2020-07-07T00:55:28.368466Z",
     "start_time": "2020-07-07T00:55:28.365093Z"
    },
    "scrolled": true
   },
   "outputs": [],
   "source": [
    "genus_names.extend(list(df.genus.unique()))"
   ]
  },
  {
   "cell_type": "markdown",
   "metadata": {},
   "source": [
    "## Filling NA Values"
   ]
  },
  {
   "cell_type": "markdown",
   "metadata": {},
   "source": [
    "### Create blank table of feature for each genus\n"
   ]
  },
  {
   "cell_type": "code",
   "execution_count": 106,
   "metadata": {
    "ExecuteTime": {
     "end_time": "2020-07-07T00:55:28.451810Z",
     "start_time": "2020-07-07T00:55:28.370692Z"
    }
   },
   "outputs": [],
   "source": [
    "genus_popular_features =pd.concat([pd.DataFrame([name], columns=['genus']) for name in genus_names],\n",
    "                                  ignore_index=True)"
   ]
  },
  {
   "cell_type": "code",
   "execution_count": 107,
   "metadata": {
    "ExecuteTime": {
     "end_time": "2020-07-07T00:55:28.467770Z",
     "start_time": "2020-07-07T00:55:28.453642Z"
    }
   },
   "outputs": [
    {
     "data": {
      "text/html": [
       "<div>\n",
       "<style scoped>\n",
       "    .dataframe tbody tr th:only-of-type {\n",
       "        vertical-align: middle;\n",
       "    }\n",
       "\n",
       "    .dataframe tbody tr th {\n",
       "        vertical-align: top;\n",
       "    }\n",
       "\n",
       "    .dataframe thead th {\n",
       "        text-align: right;\n",
       "    }\n",
       "</style>\n",
       "<table border=\"1\" class=\"dataframe\">\n",
       "  <thead>\n",
       "    <tr style=\"text-align: right;\">\n",
       "      <th></th>\n",
       "      <th>genus</th>\n",
       "      <th>hymeniumType</th>\n",
       "      <th>capShape</th>\n",
       "      <th>whichGills</th>\n",
       "      <th>stipeCharacter</th>\n",
       "      <th>sporePrintColor</th>\n",
       "      <th>ecologicalType</th>\n",
       "    </tr>\n",
       "  </thead>\n",
       "  <tbody>\n",
       "    <tr>\n",
       "      <th>0</th>\n",
       "      <td>Armillaria</td>\n",
       "      <td>0</td>\n",
       "      <td>0</td>\n",
       "      <td>0</td>\n",
       "      <td>0</td>\n",
       "      <td>0</td>\n",
       "      <td>0</td>\n",
       "    </tr>\n",
       "    <tr>\n",
       "      <th>1</th>\n",
       "      <td>Blusher</td>\n",
       "      <td>0</td>\n",
       "      <td>0</td>\n",
       "      <td>0</td>\n",
       "      <td>0</td>\n",
       "      <td>0</td>\n",
       "      <td>0</td>\n",
       "    </tr>\n",
       "    <tr>\n",
       "      <th>2</th>\n",
       "      <td>Caloscypha</td>\n",
       "      <td>0</td>\n",
       "      <td>0</td>\n",
       "      <td>0</td>\n",
       "      <td>0</td>\n",
       "      <td>0</td>\n",
       "      <td>0</td>\n",
       "    </tr>\n",
       "    <tr>\n",
       "      <th>3</th>\n",
       "      <td>Cantharellus</td>\n",
       "      <td>0</td>\n",
       "      <td>0</td>\n",
       "      <td>0</td>\n",
       "      <td>0</td>\n",
       "      <td>0</td>\n",
       "      <td>0</td>\n",
       "    </tr>\n",
       "    <tr>\n",
       "      <th>4</th>\n",
       "      <td>Craterellus</td>\n",
       "      <td>0</td>\n",
       "      <td>0</td>\n",
       "      <td>0</td>\n",
       "      <td>0</td>\n",
       "      <td>0</td>\n",
       "      <td>0</td>\n",
       "    </tr>\n",
       "  </tbody>\n",
       "</table>\n",
       "</div>"
      ],
      "text/plain": [
       "          genus  hymeniumType  capShape  whichGills  stipeCharacter  \\\n",
       "0    Armillaria             0         0           0               0   \n",
       "1       Blusher             0         0           0               0   \n",
       "2    Caloscypha             0         0           0               0   \n",
       "3  Cantharellus             0         0           0               0   \n",
       "4   Craterellus             0         0           0               0   \n",
       "\n",
       "   sporePrintColor  ecologicalType  \n",
       "0                0               0  \n",
       "1                0               0  \n",
       "2                0               0  \n",
       "3                0               0  \n",
       "4                0               0  "
      ]
     },
     "execution_count": 107,
     "metadata": {},
     "output_type": "execute_result"
    }
   ],
   "source": [
    "#fill initial values with zero\n",
    "genus_popular_features[list(df.columns[1:-2].values)] = pd.DataFrame([[0,0,0,0,0,0]], \n",
    "                                                                     index=genus_popular_features.index)\n",
    "genus_popular_features.head()"
   ]
  },
  {
   "cell_type": "code",
   "execution_count": 108,
   "metadata": {
    "ExecuteTime": {
     "end_time": "2020-07-07T00:55:28.475369Z",
     "start_time": "2020-07-07T00:55:28.469532Z"
    }
   },
   "outputs": [],
   "source": [
    "#drop genus with var. in name\n",
    "genus_popular_features.genus = genus_popular_features.genus.apply(lambda x: np.nan if 'var.' in x else x)\n",
    "genus_popular_features.dropna(inplace=True)"
   ]
  },
  {
   "cell_type": "markdown",
   "metadata": {},
   "source": [
    "### Now we'll get the most common feature for each genus"
   ]
  },
  {
   "cell_type": "code",
   "execution_count": 109,
   "metadata": {
    "ExecuteTime": {
     "end_time": "2020-07-07T00:55:28.479091Z",
     "start_time": "2020-07-07T00:55:28.477057Z"
    }
   },
   "outputs": [],
   "source": [
    "\n",
    "# pd.set_option('display.max_colwidth', -1)"
   ]
  },
  {
   "cell_type": "code",
   "execution_count": 110,
   "metadata": {
    "ExecuteTime": {
     "end_time": "2020-07-07T00:55:28.720914Z",
     "start_time": "2020-07-07T00:55:28.480653Z"
    }
   },
   "outputs": [
    {
     "data": {
      "text/html": [
       "<div>\n",
       "<style scoped>\n",
       "    .dataframe tbody tr th:only-of-type {\n",
       "        vertical-align: middle;\n",
       "    }\n",
       "\n",
       "    .dataframe tbody tr th {\n",
       "        vertical-align: top;\n",
       "    }\n",
       "\n",
       "    .dataframe thead th {\n",
       "        text-align: right;\n",
       "    }\n",
       "</style>\n",
       "<table border=\"1\" class=\"dataframe\">\n",
       "  <thead>\n",
       "    <tr style=\"text-align: right;\">\n",
       "      <th></th>\n",
       "      <th>name</th>\n",
       "      <th>hymeniumType</th>\n",
       "      <th>capShape</th>\n",
       "      <th>whichGills</th>\n",
       "      <th>stipeCharacter</th>\n",
       "      <th>sporePrintColor</th>\n",
       "      <th>ecologicalType</th>\n",
       "      <th>howEdible</th>\n",
       "    </tr>\n",
       "    <tr>\n",
       "      <th>genus</th>\n",
       "      <th></th>\n",
       "      <th></th>\n",
       "      <th></th>\n",
       "      <th></th>\n",
       "      <th></th>\n",
       "      <th></th>\n",
       "      <th></th>\n",
       "      <th></th>\n",
       "    </tr>\n",
       "  </thead>\n",
       "  <tbody>\n",
       "    <tr>\n",
       "      <th>Agaricus</th>\n",
       "      <td>Agaricus abruptibulbusAgaricus amicosusAgaricu...</td>\n",
       "      <td>gillsgillsgillsgillsgillsgillsgillsgillsgillsg...</td>\n",
       "      <td>convexconvexconvexconvexconvexconvexconvexconv...</td>\n",
       "      <td>freefreefreefreefreefreefreefreefreefreefreefr...</td>\n",
       "      <td>ringringringringringringringringringbareringri...</td>\n",
       "      <td>brownbrownblackish-brownbrownbrownbrownbrownbr...</td>\n",
       "      <td>saprotrophicsaprotrophicsaprotrophicsaprotroph...</td>\n",
       "      <td>ediblechoicechoiceedibleediblechoicechoicechoi...</td>\n",
       "    </tr>\n",
       "    <tr>\n",
       "      <th>Agrocybe</th>\n",
       "      <td>Agrocybe praecox</td>\n",
       "      <td>gills</td>\n",
       "      <td>convex</td>\n",
       "      <td>adnexed</td>\n",
       "      <td>ring</td>\n",
       "      <td>brown</td>\n",
       "      <td>saprotrophic</td>\n",
       "      <td>edible</td>\n",
       "    </tr>\n",
       "    <tr>\n",
       "      <th>Albatrellus</th>\n",
       "      <td>Albatrellus subrubescens</td>\n",
       "      <td>pores</td>\n",
       "      <td>convex</td>\n",
       "      <td>decurrent</td>\n",
       "      <td>bare</td>\n",
       "      <td>white</td>\n",
       "      <td>mycorrhizal</td>\n",
       "      <td>poisonous</td>\n",
       "    </tr>\n",
       "    <tr>\n",
       "      <th>Aleuria</th>\n",
       "      <td>Aleuria aurantia</td>\n",
       "      <td>smooth</td>\n",
       "      <td>no</td>\n",
       "      <td>na</td>\n",
       "      <td>na</td>\n",
       "      <td>white</td>\n",
       "      <td>saprotrophic</td>\n",
       "      <td>edible</td>\n",
       "    </tr>\n",
       "    <tr>\n",
       "      <th>Amanita</th>\n",
       "      <td>Amanita abruptaAmanita aestivalisAmanita alboc...</td>\n",
       "      <td>gillsgillsgillsgillsgillsgillsgillsgillsgillsg...</td>\n",
       "      <td>convexconvexconvexconvexconvexconvexconvexconv...</td>\n",
       "      <td>freefreeadnatefreefreefreefreefreefreefreefree...</td>\n",
       "      <td>ringringvolvaringringringringringringringringr...</td>\n",
       "      <td>whitewhitewhitewhitewhitewhitewhitewhitewhitew...</td>\n",
       "      <td>mycorrhizalmycorrhizalmycorrhizalmycorrhizalmy...</td>\n",
       "      <td>deadlyunknowninediblepoisonousdeadlynanaunknow...</td>\n",
       "    </tr>\n",
       "    <tr>\n",
       "      <th>...</th>\n",
       "      <td>...</td>\n",
       "      <td>...</td>\n",
       "      <td>...</td>\n",
       "      <td>...</td>\n",
       "      <td>...</td>\n",
       "      <td>...</td>\n",
       "      <td>...</td>\n",
       "      <td>...</td>\n",
       "    </tr>\n",
       "    <tr>\n",
       "      <th>Volvariella</th>\n",
       "      <td>Volvariella bombycinaVolvariella surrectaVolva...</td>\n",
       "      <td>gillsgillsgills</td>\n",
       "      <td>conicalconvexconical</td>\n",
       "      <td>freefreefree</td>\n",
       "      <td>volvavolvavolva</td>\n",
       "      <td>pinkpinkish-brownsalmon</td>\n",
       "      <td>saprotrophicparasiticsaprotrophic</td>\n",
       "      <td>edibleinediblechoice</td>\n",
       "    </tr>\n",
       "    <tr>\n",
       "      <th>Volvopluteus</th>\n",
       "      <td>VolvopluteusVolvopluteus asiaticusVolvopluteus...</td>\n",
       "      <td>gillsgillsgillsgillsgills</td>\n",
       "      <td>flatflatflatflatflat</td>\n",
       "      <td>freefreefreefreefree</td>\n",
       "      <td>volvavolvavolvavolvavolva</td>\n",
       "      <td>pinkpinkpinkpinkpink</td>\n",
       "      <td>saprotrophicsaprotrophicsaprotrophicsaprotroph...</td>\n",
       "      <td>unpalatableunknownunknownedibleunknown</td>\n",
       "    </tr>\n",
       "    <tr>\n",
       "      <th>Xerocomellus</th>\n",
       "      <td>Xerocomellus zelleri</td>\n",
       "      <td>pores</td>\n",
       "      <td>convex</td>\n",
       "      <td>adnate</td>\n",
       "      <td>bare</td>\n",
       "      <td>olive-brown</td>\n",
       "      <td>mycorrhizal</td>\n",
       "      <td>edible</td>\n",
       "    </tr>\n",
       "    <tr>\n",
       "      <th>Xerula</th>\n",
       "      <td>Xerula megalospora</td>\n",
       "      <td>gills</td>\n",
       "      <td>convex</td>\n",
       "      <td>adnexed</td>\n",
       "      <td>bare</td>\n",
       "      <td>white</td>\n",
       "      <td>saprotrophic</td>\n",
       "      <td>unknown</td>\n",
       "    </tr>\n",
       "    <tr>\n",
       "      <th>pantherina</th>\n",
       "      <td>pantherina</td>\n",
       "      <td>gills</td>\n",
       "      <td>flat</td>\n",
       "      <td>free</td>\n",
       "      <td>ring</td>\n",
       "      <td>white</td>\n",
       "      <td>mycorrhizal</td>\n",
       "      <td>psychoactive</td>\n",
       "    </tr>\n",
       "  </tbody>\n",
       "</table>\n",
       "<p>184 rows × 8 columns</p>\n",
       "</div>"
      ],
      "text/plain": [
       "                                                           name  \\\n",
       "genus                                                             \n",
       "Agaricus      Agaricus abruptibulbusAgaricus amicosusAgaricu...   \n",
       "Agrocybe                                       Agrocybe praecox   \n",
       "Albatrellus                            Albatrellus subrubescens   \n",
       "Aleuria                                        Aleuria aurantia   \n",
       "Amanita       Amanita abruptaAmanita aestivalisAmanita alboc...   \n",
       "...                                                         ...   \n",
       "Volvariella   Volvariella bombycinaVolvariella surrectaVolva...   \n",
       "Volvopluteus  VolvopluteusVolvopluteus asiaticusVolvopluteus...   \n",
       "Xerocomellus                               Xerocomellus zelleri   \n",
       "Xerula                                       Xerula megalospora   \n",
       "pantherina                                           pantherina   \n",
       "\n",
       "                                                   hymeniumType  \\\n",
       "genus                                                             \n",
       "Agaricus      gillsgillsgillsgillsgillsgillsgillsgillsgillsg...   \n",
       "Agrocybe                                                  gills   \n",
       "Albatrellus                                               pores   \n",
       "Aleuria                                                  smooth   \n",
       "Amanita       gillsgillsgillsgillsgillsgillsgillsgillsgillsg...   \n",
       "...                                                         ...   \n",
       "Volvariella                                     gillsgillsgills   \n",
       "Volvopluteus                          gillsgillsgillsgillsgills   \n",
       "Xerocomellus                                              pores   \n",
       "Xerula                                                    gills   \n",
       "pantherina                                                gills   \n",
       "\n",
       "                                                       capShape  \\\n",
       "genus                                                             \n",
       "Agaricus      convexconvexconvexconvexconvexconvexconvexconv...   \n",
       "Agrocybe                                                 convex   \n",
       "Albatrellus                                              convex   \n",
       "Aleuria                                                      no   \n",
       "Amanita       convexconvexconvexconvexconvexconvexconvexconv...   \n",
       "...                                                         ...   \n",
       "Volvariella                                conicalconvexconical   \n",
       "Volvopluteus                               flatflatflatflatflat   \n",
       "Xerocomellus                                             convex   \n",
       "Xerula                                                   convex   \n",
       "pantherina                                                 flat   \n",
       "\n",
       "                                                     whichGills  \\\n",
       "genus                                                             \n",
       "Agaricus      freefreefreefreefreefreefreefreefreefreefreefr...   \n",
       "Agrocybe                                                adnexed   \n",
       "Albatrellus                                           decurrent   \n",
       "Aleuria                                                      na   \n",
       "Amanita       freefreeadnatefreefreefreefreefreefreefreefree...   \n",
       "...                                                         ...   \n",
       "Volvariella                                        freefreefree   \n",
       "Volvopluteus                               freefreefreefreefree   \n",
       "Xerocomellus                                             adnate   \n",
       "Xerula                                                  adnexed   \n",
       "pantherina                                                 free   \n",
       "\n",
       "                                                 stipeCharacter  \\\n",
       "genus                                                             \n",
       "Agaricus      ringringringringringringringringringbareringri...   \n",
       "Agrocybe                                                   ring   \n",
       "Albatrellus                                                bare   \n",
       "Aleuria                                                      na   \n",
       "Amanita       ringringvolvaringringringringringringringringr...   \n",
       "...                                                         ...   \n",
       "Volvariella                                     volvavolvavolva   \n",
       "Volvopluteus                          volvavolvavolvavolvavolva   \n",
       "Xerocomellus                                               bare   \n",
       "Xerula                                                     bare   \n",
       "pantherina                                                 ring   \n",
       "\n",
       "                                                sporePrintColor  \\\n",
       "genus                                                             \n",
       "Agaricus      brownbrownblackish-brownbrownbrownbrownbrownbr...   \n",
       "Agrocybe                                                  brown   \n",
       "Albatrellus                                               white   \n",
       "Aleuria                                                   white   \n",
       "Amanita       whitewhitewhitewhitewhitewhitewhitewhitewhitew...   \n",
       "...                                                         ...   \n",
       "Volvariella                             pinkpinkish-brownsalmon   \n",
       "Volvopluteus                               pinkpinkpinkpinkpink   \n",
       "Xerocomellus                                        olive-brown   \n",
       "Xerula                                                    white   \n",
       "pantherina                                                white   \n",
       "\n",
       "                                                 ecologicalType  \\\n",
       "genus                                                             \n",
       "Agaricus      saprotrophicsaprotrophicsaprotrophicsaprotroph...   \n",
       "Agrocybe                                           saprotrophic   \n",
       "Albatrellus                                         mycorrhizal   \n",
       "Aleuria                                            saprotrophic   \n",
       "Amanita       mycorrhizalmycorrhizalmycorrhizalmycorrhizalmy...   \n",
       "...                                                         ...   \n",
       "Volvariella                   saprotrophicparasiticsaprotrophic   \n",
       "Volvopluteus  saprotrophicsaprotrophicsaprotrophicsaprotroph...   \n",
       "Xerocomellus                                        mycorrhizal   \n",
       "Xerula                                             saprotrophic   \n",
       "pantherina                                          mycorrhizal   \n",
       "\n",
       "                                                      howEdible  \n",
       "genus                                                            \n",
       "Agaricus      ediblechoicechoiceedibleediblechoicechoicechoi...  \n",
       "Agrocybe                                                 edible  \n",
       "Albatrellus                                           poisonous  \n",
       "Aleuria                                                  edible  \n",
       "Amanita       deadlyunknowninediblepoisonousdeadlynanaunknow...  \n",
       "...                                                         ...  \n",
       "Volvariella                                edibleinediblechoice  \n",
       "Volvopluteus             unpalatableunknownunknownedibleunknown  \n",
       "Xerocomellus                                             edible  \n",
       "Xerula                                                  unknown  \n",
       "pantherina                                         psychoactive  \n",
       "\n",
       "[184 rows x 8 columns]"
      ]
     },
     "execution_count": 110,
     "metadata": {},
     "output_type": "execute_result"
    }
   ],
   "source": [
    "df.groupby(['genus']).sum()"
   ]
  },
  {
   "cell_type": "code",
   "execution_count": 111,
   "metadata": {
    "ExecuteTime": {
     "end_time": "2020-07-07T00:55:28.949601Z",
     "start_time": "2020-07-07T00:55:28.722523Z"
    },
    "scrolled": true
   },
   "outputs": [
    {
     "data": {
      "text/html": [
       "<div>\n",
       "<style scoped>\n",
       "    .dataframe tbody tr th:only-of-type {\n",
       "        vertical-align: middle;\n",
       "    }\n",
       "\n",
       "    .dataframe tbody tr th {\n",
       "        vertical-align: top;\n",
       "    }\n",
       "\n",
       "    .dataframe thead tr th {\n",
       "        text-align: left;\n",
       "    }\n",
       "\n",
       "    .dataframe thead tr:last-of-type th {\n",
       "        text-align: right;\n",
       "    }\n",
       "</style>\n",
       "<table border=\"1\" class=\"dataframe\">\n",
       "  <thead>\n",
       "    <tr>\n",
       "      <th></th>\n",
       "      <th>name</th>\n",
       "      <th>hymeniumType</th>\n",
       "      <th>capShape</th>\n",
       "      <th>whichGills</th>\n",
       "      <th>stipeCharacter</th>\n",
       "      <th>sporePrintColor</th>\n",
       "      <th>ecologicalType</th>\n",
       "      <th>howEdible</th>\n",
       "    </tr>\n",
       "    <tr>\n",
       "      <th></th>\n",
       "      <th>max</th>\n",
       "      <th>max</th>\n",
       "      <th>max</th>\n",
       "      <th>max</th>\n",
       "      <th>max</th>\n",
       "      <th>max</th>\n",
       "      <th>max</th>\n",
       "      <th>max</th>\n",
       "    </tr>\n",
       "    <tr>\n",
       "      <th>genus</th>\n",
       "      <th></th>\n",
       "      <th></th>\n",
       "      <th></th>\n",
       "      <th></th>\n",
       "      <th></th>\n",
       "      <th></th>\n",
       "      <th></th>\n",
       "      <th></th>\n",
       "    </tr>\n",
       "  </thead>\n",
       "  <tbody>\n",
       "    <tr>\n",
       "      <th>Agaricus</th>\n",
       "      <td>Agaricus xanthodermus</td>\n",
       "      <td>gills</td>\n",
       "      <td>flat</td>\n",
       "      <td>free</td>\n",
       "      <td>ring</td>\n",
       "      <td>purple-black</td>\n",
       "      <td>saprotrophic</td>\n",
       "      <td>poisonous</td>\n",
       "    </tr>\n",
       "    <tr>\n",
       "      <th>Agrocybe</th>\n",
       "      <td>Agrocybe praecox</td>\n",
       "      <td>gills</td>\n",
       "      <td>convex</td>\n",
       "      <td>adnexed</td>\n",
       "      <td>ring</td>\n",
       "      <td>brown</td>\n",
       "      <td>saprotrophic</td>\n",
       "      <td>edible</td>\n",
       "    </tr>\n",
       "    <tr>\n",
       "      <th>Albatrellus</th>\n",
       "      <td>Albatrellus subrubescens</td>\n",
       "      <td>pores</td>\n",
       "      <td>convex</td>\n",
       "      <td>decurrent</td>\n",
       "      <td>bare</td>\n",
       "      <td>white</td>\n",
       "      <td>mycorrhizal</td>\n",
       "      <td>poisonous</td>\n",
       "    </tr>\n",
       "    <tr>\n",
       "      <th>Aleuria</th>\n",
       "      <td>Aleuria aurantia</td>\n",
       "      <td>smooth</td>\n",
       "      <td>no</td>\n",
       "      <td>na</td>\n",
       "      <td>na</td>\n",
       "      <td>white</td>\n",
       "      <td>saprotrophic</td>\n",
       "      <td>edible</td>\n",
       "    </tr>\n",
       "    <tr>\n",
       "      <th>Amanita</th>\n",
       "      <td>Amanita zambiana</td>\n",
       "      <td>gills</td>\n",
       "      <td>umbonate</td>\n",
       "      <td>free</td>\n",
       "      <td>volva</td>\n",
       "      <td>white</td>\n",
       "      <td>saprotrophic</td>\n",
       "      <td>unknown</td>\n",
       "    </tr>\n",
       "    <tr>\n",
       "      <th>...</th>\n",
       "      <td>...</td>\n",
       "      <td>...</td>\n",
       "      <td>...</td>\n",
       "      <td>...</td>\n",
       "      <td>...</td>\n",
       "      <td>...</td>\n",
       "      <td>...</td>\n",
       "      <td>...</td>\n",
       "    </tr>\n",
       "    <tr>\n",
       "      <th>Volvariella</th>\n",
       "      <td>Volvariella volvacea</td>\n",
       "      <td>gills</td>\n",
       "      <td>convex</td>\n",
       "      <td>free</td>\n",
       "      <td>volva</td>\n",
       "      <td>salmon</td>\n",
       "      <td>saprotrophic</td>\n",
       "      <td>inedible</td>\n",
       "    </tr>\n",
       "    <tr>\n",
       "      <th>Volvopluteus</th>\n",
       "      <td>Volvopluteus michiganensis</td>\n",
       "      <td>gills</td>\n",
       "      <td>flat</td>\n",
       "      <td>free</td>\n",
       "      <td>volva</td>\n",
       "      <td>pink</td>\n",
       "      <td>saprotrophic</td>\n",
       "      <td>unpalatable</td>\n",
       "    </tr>\n",
       "    <tr>\n",
       "      <th>Xerocomellus</th>\n",
       "      <td>Xerocomellus zelleri</td>\n",
       "      <td>pores</td>\n",
       "      <td>convex</td>\n",
       "      <td>adnate</td>\n",
       "      <td>bare</td>\n",
       "      <td>olive-brown</td>\n",
       "      <td>mycorrhizal</td>\n",
       "      <td>edible</td>\n",
       "    </tr>\n",
       "    <tr>\n",
       "      <th>Xerula</th>\n",
       "      <td>Xerula megalospora</td>\n",
       "      <td>gills</td>\n",
       "      <td>convex</td>\n",
       "      <td>adnexed</td>\n",
       "      <td>bare</td>\n",
       "      <td>white</td>\n",
       "      <td>saprotrophic</td>\n",
       "      <td>unknown</td>\n",
       "    </tr>\n",
       "    <tr>\n",
       "      <th>pantherina</th>\n",
       "      <td>pantherina</td>\n",
       "      <td>gills</td>\n",
       "      <td>flat</td>\n",
       "      <td>free</td>\n",
       "      <td>ring</td>\n",
       "      <td>white</td>\n",
       "      <td>mycorrhizal</td>\n",
       "      <td>psychoactive</td>\n",
       "    </tr>\n",
       "  </tbody>\n",
       "</table>\n",
       "<p>184 rows × 8 columns</p>\n",
       "</div>"
      ],
      "text/plain": [
       "                                    name hymeniumType  capShape whichGills  \\\n",
       "                                     max          max       max        max   \n",
       "genus                                                                        \n",
       "Agaricus           Agaricus xanthodermus        gills      flat       free   \n",
       "Agrocybe                Agrocybe praecox        gills    convex    adnexed   \n",
       "Albatrellus     Albatrellus subrubescens        pores    convex  decurrent   \n",
       "Aleuria                 Aleuria aurantia       smooth        no         na   \n",
       "Amanita                 Amanita zambiana        gills  umbonate       free   \n",
       "...                                  ...          ...       ...        ...   \n",
       "Volvariella         Volvariella volvacea        gills    convex       free   \n",
       "Volvopluteus  Volvopluteus michiganensis        gills      flat       free   \n",
       "Xerocomellus        Xerocomellus zelleri        pores    convex     adnate   \n",
       "Xerula                Xerula megalospora        gills    convex    adnexed   \n",
       "pantherina                    pantherina        gills      flat       free   \n",
       "\n",
       "             stipeCharacter sporePrintColor ecologicalType     howEdible  \n",
       "                        max             max            max           max  \n",
       "genus                                                                     \n",
       "Agaricus               ring    purple-black   saprotrophic     poisonous  \n",
       "Agrocybe               ring           brown   saprotrophic        edible  \n",
       "Albatrellus            bare           white    mycorrhizal     poisonous  \n",
       "Aleuria                  na           white   saprotrophic        edible  \n",
       "Amanita               volva           white   saprotrophic       unknown  \n",
       "...                     ...             ...            ...           ...  \n",
       "Volvariella           volva          salmon   saprotrophic      inedible  \n",
       "Volvopluteus          volva            pink   saprotrophic   unpalatable  \n",
       "Xerocomellus           bare     olive-brown    mycorrhizal        edible  \n",
       "Xerula                 bare           white   saprotrophic       unknown  \n",
       "pantherina             ring           white    mycorrhizal  psychoactive  \n",
       "\n",
       "[184 rows x 8 columns]"
      ]
     },
     "execution_count": 111,
     "metadata": {},
     "output_type": "execute_result"
    }
   ],
   "source": [
    "df_agg =df.groupby(['genus']).agg(['max'])\n",
    "df_agg"
   ]
  },
  {
   "cell_type": "code",
   "execution_count": 145,
   "metadata": {
    "ExecuteTime": {
     "end_time": "2020-07-07T01:35:41.052727Z",
     "start_time": "2020-07-07T01:35:41.048747Z"
    }
   },
   "outputs": [],
   "source": [
    "df_agg.replace('na', np.nan, inplace=True)"
   ]
  },
  {
   "cell_type": "code",
   "execution_count": 112,
   "metadata": {
    "ExecuteTime": {
     "end_time": "2020-07-07T00:56:05.718503Z",
     "start_time": "2020-07-07T00:56:05.713782Z"
    },
    "scrolled": false
   },
   "outputs": [
    {
     "data": {
      "text/plain": [
       "MultiIndex([(           'name', 'max'),\n",
       "            (   'hymeniumType', 'max'),\n",
       "            (       'capShape', 'max'),\n",
       "            (     'whichGills', 'max'),\n",
       "            ( 'stipeCharacter', 'max'),\n",
       "            ('sporePrintColor', 'max'),\n",
       "            ( 'ecologicalType', 'max'),\n",
       "            (      'howEdible', 'max')],\n",
       "           )"
      ]
     },
     "execution_count": 112,
     "metadata": {},
     "output_type": "execute_result"
    }
   ],
   "source": [
    "df_agg.columns"
   ]
  },
  {
   "cell_type": "markdown",
   "metadata": {},
   "source": [
    "#### Next we'll fill the na values"
   ]
  },
  {
   "cell_type": "code",
   "execution_count": 113,
   "metadata": {
    "ExecuteTime": {
     "end_time": "2020-07-07T01:07:00.260423Z",
     "start_time": "2020-07-07T01:07:00.256713Z"
    }
   },
   "outputs": [
    {
     "data": {
      "text/plain": [
       "'flat'"
      ]
     },
     "execution_count": 113,
     "metadata": {},
     "output_type": "execute_result"
    }
   ],
   "source": [
    "df_agg.at['Agaricus',('capShape', 'max')]\n",
    "# df_agg.at['row['genus'],(col, 'max')]"
   ]
  },
  {
   "cell_type": "code",
   "execution_count": 141,
   "metadata": {
    "ExecuteTime": {
     "end_time": "2020-07-07T01:27:39.663121Z",
     "start_time": "2020-07-07T01:27:39.659327Z"
    }
   },
   "outputs": [
    {
     "data": {
      "text/plain": [
       "'na'"
      ]
     },
     "execution_count": 141,
     "metadata": {},
     "output_type": "execute_result"
    }
   ],
   "source": [
    "df_agg.at['Bovista',('hymeniumType', 'max')]"
   ]
  },
  {
   "cell_type": "code",
   "execution_count": 152,
   "metadata": {
    "ExecuteTime": {
     "end_time": "2020-07-09T17:53:33.696068Z",
     "start_time": "2020-07-09T17:53:33.658990Z"
    },
    "code_folding": []
   },
   "outputs": [],
   "source": [
    "#pull feature out of string **LIMITED TO FIRST MATCH CURRENTLY\n",
    "def check_na_and_fill(row, col):\n",
    "    \n",
    "#     for col in df.columns[1:-2]:\n",
    "# #         df[col] = df[col].apply(lambda x: check_na_and_fill(features, x))\n",
    "    if row[col] == 'na':\n",
    "        #find most common for genus and reassing mode\n",
    "#         print('we found', row['genus'],col, 'at',row[col] )\n",
    "        print('we found', row['genus'],col, 'with',row[col], 'most common is', df_agg.at[row['genus'],(col, 'max')])\n",
    "        return row[col]\n",
    "#         return df_agg.at[row['genus'],(col, 'max')]\n",
    "    else:\n",
    "        return row[col]"
   ]
  },
  {
   "cell_type": "code",
   "execution_count": 139,
   "metadata": {
    "ExecuteTime": {
     "end_time": "2020-07-07T01:26:54.248582Z",
     "start_time": "2020-07-07T01:26:54.241134Z"
    }
   },
   "outputs": [
    {
     "name": "stdout",
     "output_type": "stream",
     "text": [
      "  hymeniumType   17 0\n",
      "  capShape   0 0\n",
      "  whichGills   56 0\n",
      "  stipeCharacter   33 0\n",
      "  sporePrintColor   0 0\n",
      "  ecologicalType   0 0\n"
     ]
    }
   ],
   "source": [
    "for col in df.columns[1:-2]:\n",
    "    print(' ', col, ' ',(df[col] == 'na').sum(), (df[col] == np.nan).sum())"
   ]
  },
  {
   "cell_type": "code",
   "execution_count": 140,
   "metadata": {
    "ExecuteTime": {
     "end_time": "2020-07-07T01:26:55.734479Z",
     "start_time": "2020-07-07T01:26:55.581699Z"
    }
   },
   "outputs": [
    {
     "name": "stdout",
     "output_type": "stream",
     "text": [
      "we found Bovista hymeniumType with na most common is na\n",
      "we found Caloscypha hymeniumType with na most common is na\n",
      "we found Caloscypha hymeniumType with na most common is na\n",
      "we found Calvatia hymeniumType with na most common is na\n",
      "we found Clathrus hymeniumType with na most common is na\n",
      "we found Clathrus hymeniumType with na most common is na\n",
      "we found Daldinia hymeniumType with na most common is na\n",
      "we found Handkea hymeniumType with na most common is na\n",
      "we found Ileodictyon hymeniumType with na most common is na\n",
      "we found Lycoperdon hymeniumType with na most common is na\n",
      "we found Lycoperdon hymeniumType with na most common is na\n",
      "we found Lycoperdon hymeniumType with na most common is na\n",
      "we found Lycoperdon hymeniumType with na most common is na\n",
      "we found Nidulariaceae hymeniumType with na most common is na\n",
      "we found Pseudocolus hymeniumType with na most common is na\n",
      "we found Scleroderma hymeniumType with na most common is na\n",
      "we found Scleroderma hymeniumType with na most common is na\n",
      "we found Lysurus whichGills with na most common is na\n",
      "we found Aleuria whichGills with na most common is na\n",
      "we found Artomyces whichGills with na most common is na\n",
      "we found Aseroe whichGills with na most common is na\n",
      "we found Bovista whichGills with na most common is na\n",
      "we found Calocera whichGills with na most common is na\n",
      "we found Calocera whichGills with na most common is na\n",
      "we found Caloscypha whichGills with na most common is na\n",
      "we found Caloscypha whichGills with na most common is na\n",
      "we found Calvatia whichGills with na most common is na\n",
      "we found Clathrus whichGills with na most common is na\n",
      "we found Clathrus whichGills with na most common is na\n",
      "we found Cloud ear fungus whichGills with na most common is na\n",
      "we found Crepidotus whichGills with na most common is na\n",
      "we found Daldinia whichGills with na most common is na\n",
      "we found Ganoderma whichGills with na most common is na\n",
      "we found Gyromitra whichGills with na most common is na\n",
      "we found Gyromitra whichGills with na most common is na\n",
      "we found Gyromitra whichGills with na most common is na\n",
      "we found Gyromitra whichGills with na most common is na\n",
      "we found Gyroporus whichGills with na most common is na\n",
      "we found Handkea whichGills with na most common is na\n",
      "we found Helvella whichGills with na most common is na\n",
      "we found Helvella whichGills with na most common is na\n",
      "we found Helvella whichGills with na most common is na\n",
      "we found Ileodictyon whichGills with na most common is na\n",
      "we found Inonotus whichGills with na most common is na\n",
      "we found Laetiporus whichGills with na most common is na\n",
      "we found Leotia whichGills with na most common is na\n",
      "we found Leotia whichGills with na most common is na\n",
      "we found Lingzhi whichGills with na most common is na\n",
      "we found Lycoperdon whichGills with na most common is na\n",
      "we found Lycoperdon whichGills with na most common is na\n",
      "we found Lycoperdon whichGills with na most common is na\n",
      "we found Lycoperdon whichGills with na most common is na\n",
      "we found Lysurus whichGills with na most common is na\n",
      "we found Morchella whichGills with na most common is na\n",
      "we found Morchella whichGills with na most common is na\n",
      "we found Morchella whichGills with na most common is na\n",
      "we found Nidulariaceae whichGills with na most common is na\n",
      "we found Phallus whichGills with na most common is na\n",
      "we found Plectania whichGills with na most common is na\n",
      "we found Podostroma whichGills with na most common is na\n",
      "we found Polyozellus whichGills with na most common is na\n",
      "we found Polyozellus whichGills with na most common is na\n",
      "we found Pseudocolus whichGills with na most common is na\n",
      "we found Psilocybe whichGills with na most common is na\n",
      "we found Pulveroboletus whichGills with na most common is na\n",
      "we found Ramaria whichGills with na most common is na\n",
      "we found Ramaria whichGills with na most common is na\n",
      "we found Ramaria whichGills with na most common is na\n",
      "we found Scleroderma whichGills with na most common is na\n",
      "we found Scleroderma whichGills with na most common is na\n",
      "we found Sparassis whichGills with na most common is na\n",
      "we found Tremella whichGills with na most common is na\n",
      "we found Verpa whichGills with na most common is na\n",
      "we found Aleuria stipeCharacter with na most common is na\n",
      "we found Artomyces stipeCharacter with na most common is na\n",
      "we found Bovista stipeCharacter with na most common is na\n",
      "we found Caloscypha stipeCharacter with na most common is na\n",
      "we found Caloscypha stipeCharacter with na most common is na\n",
      "we found Calvatia stipeCharacter with na most common is na\n",
      "we found Clathrus stipeCharacter with na most common is na\n",
      "we found Clathrus stipeCharacter with na most common is na\n",
      "we found Cloud ear fungus stipeCharacter with na most common is na\n",
      "we found Crepidotus stipeCharacter with na most common is na\n",
      "we found Daedalea stipeCharacter with na most common is na\n",
      "we found Daldinia stipeCharacter with na most common is na\n",
      "we found Fomitopsis stipeCharacter with na most common is na\n",
      "we found Fomitopsis stipeCharacter with na most common is na\n",
      "we found Ganoderma stipeCharacter with na most common is na\n",
      "we found Grifola stipeCharacter with na most common is na\n",
      "we found Handkea stipeCharacter with na most common is na\n",
      "we found Ileodictyon stipeCharacter with na most common is na\n",
      "we found Inonotus stipeCharacter with na most common is na\n",
      "we found Laetiporus stipeCharacter with na most common is na\n",
      "we found Lenzites stipeCharacter with na most common is na\n",
      "we found Lycoperdon stipeCharacter with na most common is na\n",
      "we found Lycoperdon stipeCharacter with na most common is na\n",
      "we found Lycoperdon stipeCharacter with na most common is na\n",
      "we found Lycoperdon stipeCharacter with na most common is na\n",
      "we found Meripilus stipeCharacter with na most common is na\n",
      "we found Nidulariaceae stipeCharacter with na most common is na\n",
      "we found Pseudocolus stipeCharacter with na most common is na\n",
      "we found Scleroderma stipeCharacter with na most common is na\n",
      "we found Scleroderma stipeCharacter with na most common is na\n",
      "we found Stereum stipeCharacter with na most common is na\n",
      "we found Trametes stipeCharacter with na most common is na\n",
      "we found Tremella stipeCharacter with na most common is na\n"
     ]
    }
   ],
   "source": [
    "for col in df.columns[1:-2]:\n",
    "    df[col] = df.apply(lambda row: check_na_and_fill(row, col), axis=1)"
   ]
  },
  {
   "cell_type": "code",
   "execution_count": 117,
   "metadata": {
    "ExecuteTime": {
     "end_time": "2020-07-07T01:07:27.651420Z",
     "start_time": "2020-07-07T01:07:27.641699Z"
    },
    "collapsed": true
   },
   "outputs": [
    {
     "name": "stdout",
     "output_type": "stream",
     "text": [
      "name               0\n",
      "hymeniumType       0\n",
      "capShape           0\n",
      "whichGills         0\n",
      "stipeCharacter     0\n",
      "sporePrintColor    0\n",
      "ecologicalType     0\n",
      "howEdible          0\n",
      "genus              0\n",
      "dtype: int64\n",
      "name               0\n",
      "hymeniumType       0\n",
      "capShape           0\n",
      "whichGills         0\n",
      "stipeCharacter     0\n",
      "sporePrintColor    0\n",
      "ecologicalType     0\n",
      "howEdible          0\n",
      "genus              0\n",
      "dtype: int64\n",
      "name               0\n",
      "hymeniumType       0\n",
      "capShape           0\n",
      "whichGills         0\n",
      "stipeCharacter     0\n",
      "sporePrintColor    0\n",
      "ecologicalType     0\n",
      "howEdible          0\n",
      "genus              0\n",
      "dtype: int64\n",
      "name               0\n",
      "hymeniumType       0\n",
      "capShape           0\n",
      "whichGills         0\n",
      "stipeCharacter     0\n",
      "sporePrintColor    0\n",
      "ecologicalType     0\n",
      "howEdible          0\n",
      "genus              0\n",
      "dtype: int64\n",
      "name               0\n",
      "hymeniumType       0\n",
      "capShape           0\n",
      "whichGills         0\n",
      "stipeCharacter     0\n",
      "sporePrintColor    0\n",
      "ecologicalType     0\n",
      "howEdible          0\n",
      "genus              0\n",
      "dtype: int64\n",
      "name               0\n",
      "hymeniumType       0\n",
      "capShape           0\n",
      "whichGills         0\n",
      "stipeCharacter     0\n",
      "sporePrintColor    0\n",
      "ecologicalType     0\n",
      "howEdible          0\n",
      "genus              0\n",
      "dtype: int64\n"
     ]
    }
   ],
   "source": [
    "for col in df.columns[1:-2]:\n",
    "    print(df.isnull().sum())"
   ]
  },
  {
   "cell_type": "code",
   "execution_count": 118,
   "metadata": {
    "ExecuteTime": {
     "end_time": "2020-07-07T01:07:32.511325Z",
     "start_time": "2020-07-07T01:07:32.496301Z"
    },
    "scrolled": false
   },
   "outputs": [
    {
     "data": {
      "text/html": [
       "<div>\n",
       "<style scoped>\n",
       "    .dataframe tbody tr th:only-of-type {\n",
       "        vertical-align: middle;\n",
       "    }\n",
       "\n",
       "    .dataframe tbody tr th {\n",
       "        vertical-align: top;\n",
       "    }\n",
       "\n",
       "    .dataframe thead th {\n",
       "        text-align: right;\n",
       "    }\n",
       "</style>\n",
       "<table border=\"1\" class=\"dataframe\">\n",
       "  <thead>\n",
       "    <tr style=\"text-align: right;\">\n",
       "      <th></th>\n",
       "      <th>name</th>\n",
       "      <th>hymeniumType</th>\n",
       "      <th>capShape</th>\n",
       "      <th>whichGills</th>\n",
       "      <th>stipeCharacter</th>\n",
       "      <th>sporePrintColor</th>\n",
       "      <th>ecologicalType</th>\n",
       "      <th>howEdible</th>\n",
       "      <th>genus</th>\n",
       "    </tr>\n",
       "  </thead>\n",
       "  <tbody>\n",
       "    <tr>\n",
       "      <th>0</th>\n",
       "      <td>Lysurus mokusin</td>\n",
       "      <td>smooth</td>\n",
       "      <td>no</td>\n",
       "      <td>na</td>\n",
       "      <td>bare</td>\n",
       "      <td>olive-brown</td>\n",
       "      <td>saprotrophic</td>\n",
       "      <td>unknown</td>\n",
       "      <td>Lysurus</td>\n",
       "    </tr>\n",
       "    <tr>\n",
       "      <th>1</th>\n",
       "      <td>Agaricus abruptibulbus</td>\n",
       "      <td>gills</td>\n",
       "      <td>convex</td>\n",
       "      <td>free</td>\n",
       "      <td>ring</td>\n",
       "      <td>brown</td>\n",
       "      <td>saprotrophic</td>\n",
       "      <td>edible</td>\n",
       "      <td>Agaricus</td>\n",
       "    </tr>\n",
       "    <tr>\n",
       "      <th>2</th>\n",
       "      <td>Agaricus amicosus</td>\n",
       "      <td>gills</td>\n",
       "      <td>convex</td>\n",
       "      <td>free</td>\n",
       "      <td>ring</td>\n",
       "      <td>brown</td>\n",
       "      <td>saprotrophic</td>\n",
       "      <td>choice</td>\n",
       "      <td>Agaricus</td>\n",
       "    </tr>\n",
       "    <tr>\n",
       "      <th>3</th>\n",
       "      <td>Agaricus arvensis</td>\n",
       "      <td>gills</td>\n",
       "      <td>convex</td>\n",
       "      <td>free</td>\n",
       "      <td>ring</td>\n",
       "      <td>blackish-brown</td>\n",
       "      <td>saprotrophic</td>\n",
       "      <td>choice</td>\n",
       "      <td>Agaricus</td>\n",
       "    </tr>\n",
       "    <tr>\n",
       "      <th>4</th>\n",
       "      <td>Agaricus augustus</td>\n",
       "      <td>gills</td>\n",
       "      <td>convex</td>\n",
       "      <td>free</td>\n",
       "      <td>ring</td>\n",
       "      <td>brown</td>\n",
       "      <td>saprotrophic</td>\n",
       "      <td>edible</td>\n",
       "      <td>Agaricus</td>\n",
       "    </tr>\n",
       "    <tr>\n",
       "      <th>...</th>\n",
       "      <td>...</td>\n",
       "      <td>...</td>\n",
       "      <td>...</td>\n",
       "      <td>...</td>\n",
       "      <td>...</td>\n",
       "      <td>...</td>\n",
       "      <td>...</td>\n",
       "      <td>...</td>\n",
       "      <td>...</td>\n",
       "    </tr>\n",
       "    <tr>\n",
       "      <th>637</th>\n",
       "      <td>Volvopluteus earlei</td>\n",
       "      <td>gills</td>\n",
       "      <td>flat</td>\n",
       "      <td>free</td>\n",
       "      <td>volva</td>\n",
       "      <td>pink</td>\n",
       "      <td>saprotrophic</td>\n",
       "      <td>unknown</td>\n",
       "      <td>Volvopluteus</td>\n",
       "    </tr>\n",
       "    <tr>\n",
       "      <th>638</th>\n",
       "      <td>Volvopluteus gloiocephalus</td>\n",
       "      <td>gills</td>\n",
       "      <td>flat</td>\n",
       "      <td>free</td>\n",
       "      <td>volva</td>\n",
       "      <td>pink</td>\n",
       "      <td>saprotrophic</td>\n",
       "      <td>edible</td>\n",
       "      <td>Volvopluteus</td>\n",
       "    </tr>\n",
       "    <tr>\n",
       "      <th>639</th>\n",
       "      <td>Volvopluteus michiganensis</td>\n",
       "      <td>gills</td>\n",
       "      <td>flat</td>\n",
       "      <td>free</td>\n",
       "      <td>volva</td>\n",
       "      <td>pink</td>\n",
       "      <td>saprotrophic</td>\n",
       "      <td>unknown</td>\n",
       "      <td>Volvopluteus</td>\n",
       "    </tr>\n",
       "    <tr>\n",
       "      <th>640</th>\n",
       "      <td>Xerocomellus zelleri</td>\n",
       "      <td>pores</td>\n",
       "      <td>convex</td>\n",
       "      <td>adnate</td>\n",
       "      <td>bare</td>\n",
       "      <td>olive-brown</td>\n",
       "      <td>mycorrhizal</td>\n",
       "      <td>edible</td>\n",
       "      <td>Xerocomellus</td>\n",
       "    </tr>\n",
       "    <tr>\n",
       "      <th>641</th>\n",
       "      <td>Xerula megalospora</td>\n",
       "      <td>gills</td>\n",
       "      <td>convex</td>\n",
       "      <td>adnexed</td>\n",
       "      <td>bare</td>\n",
       "      <td>white</td>\n",
       "      <td>saprotrophic</td>\n",
       "      <td>unknown</td>\n",
       "      <td>Xerula</td>\n",
       "    </tr>\n",
       "  </tbody>\n",
       "</table>\n",
       "<p>641 rows × 9 columns</p>\n",
       "</div>"
      ],
      "text/plain": [
       "                           name hymeniumType capShape whichGills  \\\n",
       "0               Lysurus mokusin       smooth       no         na   \n",
       "1        Agaricus abruptibulbus        gills   convex       free   \n",
       "2             Agaricus amicosus        gills   convex       free   \n",
       "3             Agaricus arvensis        gills   convex       free   \n",
       "4             Agaricus augustus        gills   convex       free   \n",
       "..                          ...          ...      ...        ...   \n",
       "637         Volvopluteus earlei        gills     flat       free   \n",
       "638  Volvopluteus gloiocephalus        gills     flat       free   \n",
       "639  Volvopluteus michiganensis        gills     flat       free   \n",
       "640        Xerocomellus zelleri        pores   convex     adnate   \n",
       "641          Xerula megalospora        gills   convex    adnexed   \n",
       "\n",
       "    stipeCharacter sporePrintColor ecologicalType howEdible         genus  \n",
       "0             bare     olive-brown   saprotrophic   unknown       Lysurus  \n",
       "1             ring           brown   saprotrophic    edible      Agaricus  \n",
       "2             ring           brown   saprotrophic    choice      Agaricus  \n",
       "3             ring  blackish-brown   saprotrophic    choice      Agaricus  \n",
       "4             ring           brown   saprotrophic    edible      Agaricus  \n",
       "..             ...             ...            ...       ...           ...  \n",
       "637          volva            pink   saprotrophic   unknown  Volvopluteus  \n",
       "638          volva            pink   saprotrophic    edible  Volvopluteus  \n",
       "639          volva            pink   saprotrophic   unknown  Volvopluteus  \n",
       "640           bare     olive-brown    mycorrhizal    edible  Xerocomellus  \n",
       "641           bare           white   saprotrophic   unknown        Xerula  \n",
       "\n",
       "[641 rows x 9 columns]"
      ]
     },
     "execution_count": 118,
     "metadata": {},
     "output_type": "execute_result"
    }
   ],
   "source": [
    "df"
   ]
  },
  {
   "cell_type": "code",
   "execution_count": null,
   "metadata": {},
   "outputs": [],
   "source": []
  },
  {
   "cell_type": "code",
   "execution_count": null,
   "metadata": {
    "ExecuteTime": {
     "end_time": "2020-07-07T00:23:33.661073Z",
     "start_time": "2020-07-07T00:23:19.826Z"
    },
    "scrolled": true
   },
   "outputs": [],
   "source": [
    "df.count()"
   ]
  },
  {
   "cell_type": "code",
   "execution_count": null,
   "metadata": {
    "ExecuteTime": {
     "end_time": "2020-07-07T00:23:33.679807Z",
     "start_time": "2020-07-07T00:23:19.917Z"
    }
   },
   "outputs": [],
   "source": [
    "for col in df.columns[1:-2]:\n",
    "#     print(i)\n",
    "    df[col] = df[col].apply(lambda x: check_na_and_fill(features, x))"
   ]
  },
  {
   "cell_type": "code",
   "execution_count": null,
   "metadata": {},
   "outputs": [],
   "source": []
  },
  {
   "cell_type": "code",
   "execution_count": null,
   "metadata": {},
   "outputs": [],
   "source": []
  },
  {
   "cell_type": "code",
   "execution_count": null,
   "metadata": {
    "ExecuteTime": {
     "end_time": "2020-07-06T20:06:18.366422Z",
     "start_time": "2020-07-06T20:06:18.346059Z"
    }
   },
   "outputs": [],
   "source": [
    "df[df.genus=='Agaricus']"
   ]
  },
  {
   "cell_type": "code",
   "execution_count": null,
   "metadata": {
    "ExecuteTime": {
     "end_time": "2020-07-06T20:05:14.803904Z",
     "start_time": "2020-07-06T20:05:14.727243Z"
    },
    "scrolled": true
   },
   "outputs": [],
   "source": [
    "df[df.genus=='Lysurus']"
   ]
  },
  {
   "cell_type": "markdown",
   "metadata": {},
   "source": [
    "## Feature Distributions"
   ]
  },
  {
   "cell_type": "code",
   "execution_count": null,
   "metadata": {
    "ExecuteTime": {
     "end_time": "2020-06-21T22:51:44.856643Z",
     "start_time": "2020-06-21T22:51:44.852946Z"
    }
   },
   "outputs": [],
   "source": [
    "df.columns[1:]"
   ]
  },
  {
   "cell_type": "code",
   "execution_count": null,
   "metadata": {
    "ExecuteTime": {
     "end_time": "2020-06-21T22:51:45.432481Z",
     "start_time": "2020-06-21T22:51:45.427473Z"
    }
   },
   "outputs": [],
   "source": [
    "f'hello my nema {df.columns}'"
   ]
  },
  {
   "cell_type": "code",
   "execution_count": null,
   "metadata": {
    "ExecuteTime": {
     "end_time": "2020-06-21T22:52:41.228126Z",
     "start_time": "2020-06-21T22:52:38.971967Z"
    },
    "scrolled": true
   },
   "outputs": [],
   "source": [
    "for col in df.columns[1:]:\n",
    "    plt.figure(figsize=(10,5))\n",
    "    ax = sns.barplot(x=col, y=col, data=df, orient=\"v\", estimator=lambda x: len(x) / len(df) * 100)\n",
    "    ax.set(ylabel=\"Percent\")\n",
    "    ax.set_xticklabels(ax.get_xticklabels(), rotation=65)\n",
    "    plt.tight_layout()\n",
    "#     plt.gcf().subplots_adjust(bottom=0.3)\n",
    "    plt.savefig(f'graphs/{col}.png')"
   ]
  },
  {
   "cell_type": "code",
   "execution_count": null,
   "metadata": {
    "ExecuteTime": {
     "end_time": "2020-06-21T22:51:49.725697Z",
     "start_time": "2020-06-21T22:51:49.182819Z"
    }
   },
   "outputs": [],
   "source": [
    "plt.figure(figsize=(10,5))\n",
    "ax = sns.barplot(x=\"sporePrintColor\", y=\"sporePrintColor\", data=df, orient=\"v\", estimator=lambda x: len(x) / len(df) * 100)\n",
    "ax.set(ylabel=\"Percent\")\n",
    "ax.set_xticklabels(ax.get_xticklabels(), rotation=65)\n",
    "plt.tight_layout()\n",
    "\n"
   ]
  },
  {
   "cell_type": "code",
   "execution_count": null,
   "metadata": {
    "ExecuteTime": {
     "end_time": "2020-06-21T22:52:18.632907Z",
     "start_time": "2020-06-21T22:52:18.631034Z"
    }
   },
   "outputs": [],
   "source": [
    "# plt.figure(figsize=(10,5))\n",
    "# ax = sns.barplot(x='hymeniumType', y='hymeniumType', data=df, orient=\"v\", estimator=lambda x: len(x) / len(df) * 100)\n",
    "# ax.set(ylabel=\"Percent\")\n",
    "# ax.set_xticklabels(ax.get_xticklabels(), rotation=65)"
   ]
  },
  {
   "cell_type": "code",
   "execution_count": null,
   "metadata": {
    "ExecuteTime": {
     "end_time": "2020-06-21T22:53:31.814077Z",
     "start_time": "2020-06-21T22:53:31.812165Z"
    },
    "scrolled": false
   },
   "outputs": [],
   "source": [
    "# plt.figure(figsize=(10,5))\n",
    "# ax = sns.countplot(x=\"sporePrintColor\", data=df)\n",
    "# ax.set_xticklabels(ax.get_xticklabels(), rotation=65)"
   ]
  },
  {
   "cell_type": "code",
   "execution_count": null,
   "metadata": {
    "ExecuteTime": {
     "end_time": "2020-06-21T23:17:48.315913Z",
     "start_time": "2020-06-21T23:17:48.310981Z"
    },
    "scrolled": true
   },
   "outputs": [],
   "source": [
    "df.isin(['na']).sum()"
   ]
  },
  {
   "cell_type": "code",
   "execution_count": null,
   "metadata": {
    "ExecuteTime": {
     "end_time": "2020-06-21T23:17:49.691766Z",
     "start_time": "2020-06-21T23:17:49.679431Z"
    },
    "code_folding": [
     0
    ]
   },
   "outputs": [],
   "source": [
    "for col in df.columns[1:]:\n",
    "    print(df[col].value_counts())"
   ]
  },
  {
   "cell_type": "code",
   "execution_count": null,
   "metadata": {
    "ExecuteTime": {
     "end_time": "2020-06-21T23:17:51.971366Z",
     "start_time": "2020-06-21T23:17:51.967019Z"
    },
    "code_folding": [
     1
    ]
   },
   "outputs": [],
   "source": [
    "#map edibiliy to binary groups\n",
    "df.loc[:,'howEdible'] = df.howEdible.map(lambda x : {\n",
    "    'edible'      : 'edible',\n",
    "    'choice'      : 'edible',\n",
    "    'psychoactive': 'edible',\n",
    "    'inedible'    : 'inedible',\n",
    "    'poisonous'   : 'inedible',\n",
    "    'unknown'     : 'inedible',\n",
    "    'deadly'      : 'inedible',\n",
    "    'na'           : 'inedible',\n",
    "    'unpalatable' : 'inedible'\n",
    "}[x])"
   ]
  },
  {
   "cell_type": "code",
   "execution_count": null,
   "metadata": {
    "ExecuteTime": {
     "end_time": "2020-06-21T23:17:52.772969Z",
     "start_time": "2020-06-21T23:17:52.768045Z"
    }
   },
   "outputs": [],
   "source": [
    "df.howEdible.value_counts()"
   ]
  },
  {
   "cell_type": "code",
   "execution_count": null,
   "metadata": {
    "ExecuteTime": {
     "end_time": "2020-06-21T23:17:53.637642Z",
     "start_time": "2020-06-21T23:17:53.626847Z"
    }
   },
   "outputs": [],
   "source": [
    "df.head()"
   ]
  },
  {
   "cell_type": "code",
   "execution_count": null,
   "metadata": {
    "ExecuteTime": {
     "end_time": "2020-06-21T23:17:54.361593Z",
     "start_time": "2020-06-21T23:17:54.325616Z"
    }
   },
   "outputs": [],
   "source": [
    "df.describe()"
   ]
  },
  {
   "cell_type": "code",
   "execution_count": null,
   "metadata": {
    "ExecuteTime": {
     "end_time": "2020-06-21T23:18:04.704197Z",
     "start_time": "2020-06-21T23:18:04.691386Z"
    },
    "scrolled": true
   },
   "outputs": [],
   "source": [
    "dfx=df.drop(columns=['name', 'howEdible'])\n",
    "dfx.head()"
   ]
  },
  {
   "cell_type": "markdown",
   "metadata": {},
   "source": [
    "# Further EDA "
   ]
  },
  {
   "cell_type": "markdown",
   "metadata": {
    "heading_collapsed": true
   },
   "source": [
    "#### Lets start by looking at target variable howEdible"
   ]
  },
  {
   "cell_type": "code",
   "execution_count": null,
   "metadata": {
    "ExecuteTime": {
     "end_time": "2020-06-21T23:23:12.503235Z",
     "start_time": "2020-06-21T23:23:12.371999Z"
    },
    "code_folding": [],
    "hidden": true
   },
   "outputs": [],
   "source": [
    "# edible Count\n",
    "print('Target Variable')\n",
    "print(df.groupby(['howEdible']).howEdible.count())\n",
    "\n",
    "# Target Variable Countplot\n",
    "# sns.set_style('darkgrid')\n",
    "plt.figure(figsize = (10,5))\n",
    "sns.countplot(df['howEdible'], alpha =.80)\n",
    "plt.title('Edible vs Inedible')\n",
    "plt.ylabel('# Passengers')\n",
    "plt.show()"
   ]
  },
  {
   "cell_type": "markdown",
   "metadata": {
    "hidden": true
   },
   "source": [
    "Now lets get a general feel for all of the variable counts"
   ]
  },
  {
   "cell_type": "code",
   "execution_count": null,
   "metadata": {
    "ExecuteTime": {
     "end_time": "2019-12-14T21:05:23.607359Z",
     "start_time": "2019-12-14T21:05:23.458275Z"
    },
    "hidden": true
   },
   "outputs": [],
   "source": [
    "hc= dfx.hymeniumType.value_counts()\n",
    "sns.barplot(hc.index, hc.values)\n",
    "plt.title('hymeniumType')"
   ]
  },
  {
   "cell_type": "code",
   "execution_count": null,
   "metadata": {
    "ExecuteTime": {
     "end_time": "2019-12-14T21:05:23.820736Z",
     "start_time": "2019-12-14T21:05:23.609480Z"
    },
    "hidden": true
   },
   "outputs": [],
   "source": [
    "hc= dfx.capShape.value_counts()\n",
    "plt.figure(figsize=(10,5))\n",
    "sns.barplot(hc.index, hc.values)\n",
    "plt.title('capShape')"
   ]
  },
  {
   "cell_type": "code",
   "execution_count": null,
   "metadata": {
    "ExecuteTime": {
     "end_time": "2019-12-14T21:05:24.000176Z",
     "start_time": "2019-12-14T21:05:23.822894Z"
    },
    "hidden": true
   },
   "outputs": [],
   "source": [
    "hc= dfx.whichGills.value_counts()\n",
    "plt.figure(figsize=(10,5))\n",
    "sns.barplot(hc.index, hc.values)\n",
    "plt.title('whichGills')"
   ]
  },
  {
   "cell_type": "code",
   "execution_count": null,
   "metadata": {
    "ExecuteTime": {
     "end_time": "2019-12-14T21:05:24.165318Z",
     "start_time": "2019-12-14T21:05:24.002232Z"
    },
    "hidden": true
   },
   "outputs": [],
   "source": [
    "hc= dfx.stipeCharacter.value_counts()\n",
    "sns.barplot(hc.index, hc.values)\n",
    "plt.title('stipeCharacter')"
   ]
  },
  {
   "cell_type": "code",
   "execution_count": null,
   "metadata": {
    "ExecuteTime": {
     "end_time": "2019-12-14T21:05:24.455968Z",
     "start_time": "2019-12-14T21:05:24.167135Z"
    },
    "hidden": true
   },
   "outputs": [],
   "source": [
    "hc= dfx.sporePrintColor.value_counts()\n",
    "plt.figure(figsize=(10,5))\n",
    "sns.barplot(hc.index, hc.values)\n",
    "plt.title('sporePrintColor')"
   ]
  },
  {
   "cell_type": "code",
   "execution_count": null,
   "metadata": {
    "ExecuteTime": {
     "end_time": "2019-12-14T21:05:24.633555Z",
     "start_time": "2019-12-14T21:05:24.498845Z"
    },
    "hidden": true
   },
   "outputs": [],
   "source": [
    "hc= dfx.ecologicalType.value_counts()\n",
    "sns.barplot(hc.index, hc.values)\n",
    "plt.title('ecologicalType')"
   ]
  },
  {
   "cell_type": "code",
   "execution_count": null,
   "metadata": {
    "ExecuteTime": {
     "end_time": "2019-12-14T21:05:27.463037Z",
     "start_time": "2019-12-14T21:05:25.206256Z"
    },
    "hidden": true
   },
   "outputs": [],
   "source": [
    "hc= dfx.genus.value_counts()\n",
    "plt.figure(figsize=(10,5))\n",
    "sns.barplot(hc.index, hc.values)\n",
    "plt.title('genus')"
   ]
  },
  {
   "cell_type": "code",
   "execution_count": null,
   "metadata": {
    "ExecuteTime": {
     "end_time": "2019-12-14T21:05:28.332484Z",
     "start_time": "2019-12-14T21:05:28.322849Z"
    },
    "hidden": true
   },
   "outputs": [],
   "source": [
    "df.groupby(['hymeniumType','howEdible']).hymeniumType.count().unstack()"
   ]
  },
  {
   "cell_type": "markdown",
   "metadata": {
    "heading_collapsed": true
   },
   "source": [
    "#### Now we'll look at if certain features determine edibility "
   ]
  },
  {
   "cell_type": "code",
   "execution_count": null,
   "metadata": {
    "ExecuteTime": {
     "end_time": "2020-06-22T19:44:33.421294Z",
     "start_time": "2020-06-22T19:44:28.628864Z"
    },
    "hidden": true,
    "scrolled": true
   },
   "outputs": [],
   "source": [
    "for col in df.columns[1:]:\n",
    "    plt.figure(figsize=(10,5))\n",
    "    f'{col} vs edibility\\n'\n",
    "\n",
    "    print(df.groupby([col,'howEdible'])[col].count().unstack())\n",
    "\n",
    "    # feature edibility visualization\n",
    "    groupby_feature = df.groupby([col,'howEdible'])[col].count().unstack()\n",
    "    p1 = groupby_feature.plot(kind = 'bar', stacked = True, \n",
    "                       title = f'{col} vs edibility', \n",
    "                       color = ['green','red'], alpha = .8, figsize=(10,6))\n",
    "    p1.set_xlabel(col)\n",
    "    p1.set_xticklabels(p1.get_xticklabels(), rotation=65)\n",
    "    p1.set_ylabel('# Mushrooms')\n",
    "    p1.legend(['Edible','Inedible'])\n",
    "    plt.tight_layout()\n",
    "    plt.savefig(f'graphs/{col}_edibility_dist.png')\n",
    "    plt.show()"
   ]
  },
  {
   "cell_type": "code",
   "execution_count": null,
   "metadata": {
    "ExecuteTime": {
     "end_time": "2020-06-22T19:23:12.389717Z",
     "start_time": "2020-06-22T19:23:12.054464Z"
    },
    "hidden": true
   },
   "outputs": [],
   "source": [
    "\n",
    "# #feature edibility visualization\n",
    "# print('hymeniumType vs edibility')\n",
    "\n",
    "# print('\\n')\n",
    "# print(df.groupby(['hymeniumType','howEdible']).hymeniumType.count().unstack())\n",
    "\n",
    "# # Passenger class visualization\n",
    "# hymeniumType = df.groupby(['hymeniumType','howEdible']).hymeniumType.count().unstack()\n",
    "# p1 = hymeniumType.plot(kind = 'bar', stacked = True, \n",
    "#                    title = 'hymeniumType vs edibility', \n",
    "#                    color = ['green','red'], alpha = .8, figsize=(10,6))\n",
    "# p1.set_xlabel('hymeniumType')\n",
    "# p1.set_ylabel('# Mushrooms')\n",
    "# p1.legend(['Edible','Inedible'])\n",
    "# plt.show()"
   ]
  },
  {
   "cell_type": "markdown",
   "metadata": {
    "hidden": true
   },
   "source": [
    "Looks like ridges is only hymeniumType predictor that gives strong indication"
   ]
  },
  {
   "cell_type": "markdown",
   "metadata": {
    "heading_collapsed": true
   },
   "source": [
    "#### Functions for models"
   ]
  },
  {
   "cell_type": "code",
   "execution_count": null,
   "metadata": {
    "ExecuteTime": {
     "end_time": "2020-06-22T19:50:17.309577Z",
     "start_time": "2020-06-22T19:50:17.301020Z"
    },
    "hidden": true
   },
   "outputs": [],
   "source": [
    "import itertools\n",
    "from sklearn.metrics import confusion_matrix\n",
    "#confusion matrix to be used later\n",
    "def plot_confusion_matrix(cm, classes,\n",
    "                          normalize=False,\n",
    "                          title='Confusion matrix',\n",
    "                          cmap=plt.cm.Blues):\n",
    "    \"\"\"\n",
    "    This function prints and plots the confusion matrix.\n",
    "    Normalization can be applied by setting `normalize=True`.\n",
    "    \"\"\"\n",
    "    if normalize:\n",
    "        cm = cm.astype('float') / cm.sum(axis=1)[:, np.newaxis]\n",
    "        print(\"Normalized confusion matrix\")\n",
    "    else:\n",
    "        print('Confusion Matrix, without normalization')\n",
    "\n",
    "    print(cm)\n",
    "\n",
    "    plt.imshow(cm, interpolation='nearest', cmap=cmap)\n",
    "    plt.title(title)\n",
    "    plt.colorbar()\n",
    "    tick_marks = np.arange(len(classes))\n",
    "    plt.xticks(tick_marks, classes, rotation=45)\n",
    "    plt.yticks(tick_marks, classes)\n",
    "\n",
    "    fmt = '.2f' if normalize else 'd'\n",
    "    thresh = cm.max() / 2.\n",
    "    for i, j in itertools.product(range(cm.shape[0]), range(cm.shape[1])):\n",
    "        plt.text(j, i, format(cm[i, j], fmt),\n",
    "                 horizontalalignment=\"center\",\n",
    "                 color=\"white\" if cm[i, j] > thresh else \"black\")\n",
    "\n",
    "    plt.tight_layout()\n",
    "    plt.ylabel('True label')\n",
    "    plt.xlabel('Predicted label')"
   ]
  },
  {
   "cell_type": "markdown",
   "metadata": {
    "hidden": true
   },
   "source": [
    "divide data into x and y and training set and get dummies"
   ]
  },
  {
   "cell_type": "markdown",
   "metadata": {
    "heading_collapsed": true
   },
   "source": [
    "#### Prepare feature and target variables"
   ]
  },
  {
   "cell_type": "code",
   "execution_count": null,
   "metadata": {
    "ExecuteTime": {
     "end_time": "2020-06-23T20:44:18.712790Z",
     "start_time": "2020-06-23T20:44:18.679234Z"
    },
    "hidden": true
   },
   "outputs": [],
   "source": [
    "data = pd.get_dummies(df.drop(columns=['name', 'howEdible', 'genus']))\n",
    "y = df['howEdible']\n",
    "y=y.map({'edible': 1, 'inedible': 0})\n",
    "data.head()"
   ]
  },
  {
   "cell_type": "code",
   "execution_count": null,
   "metadata": {
    "ExecuteTime": {
     "end_time": "2020-06-23T20:44:19.810222Z",
     "start_time": "2020-06-23T20:44:19.804705Z"
    },
    "hidden": true,
    "scrolled": true
   },
   "outputs": [],
   "source": [
    "#break up data for testing and training\n",
    "data_train, data_test, y_train, y_test = train_test_split(data, y, test_size=.2)\n",
    "print(len(data_train), len(data_test))"
   ]
  },
  {
   "cell_type": "markdown",
   "metadata": {
    "heading_collapsed": true
   },
   "source": [
    "# ML Models"
   ]
  },
  {
   "cell_type": "markdown",
   "metadata": {
    "hidden": true
   },
   "source": [
    "## Split data into train test groups"
   ]
  },
  {
   "cell_type": "code",
   "execution_count": null,
   "metadata": {
    "hidden": true
   },
   "outputs": [],
   "source": [
    "#done above"
   ]
  },
  {
   "cell_type": "markdown",
   "metadata": {
    "hidden": true
   },
   "source": [
    "## Regular Tree"
   ]
  },
  {
   "cell_type": "code",
   "execution_count": null,
   "metadata": {
    "ExecuteTime": {
     "end_time": "2020-06-23T20:44:22.712012Z",
     "start_time": "2020-06-23T20:44:22.707705Z"
    },
    "hidden": true
   },
   "outputs": [],
   "source": [
    "#function used to plot feature importance\n",
    "def plot_feature_importances(model):\n",
    "    n_features = data_train.shape[1]\n",
    "    plt.figure(figsize=(40,40))\n",
    "    plt.barh(range(n_features), model.feature_importances_, align='center') \n",
    "    plt.yticks(np.arange(n_features), data_train.columns.values) \n",
    "    plt.xlabel('Feature importance')\n",
    "    plt.ylabel('Feature')"
   ]
  },
  {
   "cell_type": "code",
   "execution_count": null,
   "metadata": {
    "ExecuteTime": {
     "end_time": "2020-06-23T20:44:23.347145Z",
     "start_time": "2020-06-23T20:44:23.340024Z"
    },
    "hidden": true
   },
   "outputs": [],
   "source": [
    "# Instantiate and fit a DecisionTreeClassifier\n",
    "tree_clf = DecisionTreeClassifier(criterion='gini', max_depth=30,random_state=1) \n",
    "tree_clf.fit(data_train, y_train)"
   ]
  },
  {
   "cell_type": "code",
   "execution_count": null,
   "metadata": {
    "ExecuteTime": {
     "end_time": "2020-06-23T20:44:26.911243Z",
     "start_time": "2020-06-23T20:44:24.639847Z"
    },
    "hidden": true
   },
   "outputs": [],
   "source": [
    "# visualizing the regression tree\n",
    "dot_data = StringIO()\n",
    "export_graphviz(tree_clf, out_file=dot_data,  \n",
    "                special_characters=True)\n",
    "graph = pydotplus.graph_from_dot_data(dot_data.getvalue())  \n",
    "Image(graph.create_png())"
   ]
  },
  {
   "cell_type": "code",
   "execution_count": null,
   "metadata": {
    "ExecuteTime": {
     "end_time": "2020-06-23T20:43:07.431982Z",
     "start_time": "2020-06-23T20:43:06.376299Z"
    },
    "hidden": true,
    "scrolled": true
   },
   "outputs": [],
   "source": [
    "plot_feature_importances(tree_clf)"
   ]
  },
  {
   "cell_type": "code",
   "execution_count": null,
   "metadata": {
    "ExecuteTime": {
     "end_time": "2020-06-23T20:44:41.340794Z",
     "start_time": "2020-06-23T20:44:41.331216Z"
    },
    "hidden": true
   },
   "outputs": [],
   "source": [
    "# Test set predictions\n",
    "pred = tree_clf.predict(data_test)\n",
    "\n",
    "# Confusion matrix and classification report\n",
    "print(confusion_matrix(y_test, pred))\n",
    "print(classification_report(y_test, pred))"
   ]
  },
  {
   "cell_type": "code",
   "execution_count": null,
   "metadata": {
    "ExecuteTime": {
     "end_time": "2020-06-23T20:44:48.991698Z",
     "start_time": "2020-06-23T20:44:48.988166Z"
    },
    "hidden": true
   },
   "outputs": [],
   "source": [
    "cm = confusion_matrix(y_test, pred)\n",
    "classes = ['Edible', 'Inedible']\n",
    "\n",
    "# cm = confusion_matrix(y_test,y_pred_class)\n",
    "# classes = ['Perished', 'Survived']"
   ]
  },
  {
   "cell_type": "code",
   "execution_count": null,
   "metadata": {
    "ExecuteTime": {
     "end_time": "2020-06-23T20:44:49.785799Z",
     "start_time": "2020-06-23T20:44:49.613392Z"
    },
    "hidden": true
   },
   "outputs": [],
   "source": [
    "import itertools\n",
    "plot_confusion_matrix(cm, classes,\n",
    "                          normalize=False,\n",
    "                          title='Confusion matrix',\n",
    "                          cmap=plt.cm.Blues)"
   ]
  },
  {
   "cell_type": "code",
   "execution_count": null,
   "metadata": {
    "ExecuteTime": {
     "end_time": "2020-06-23T20:44:52.453814Z",
     "start_time": "2020-06-23T20:44:52.448692Z"
    },
    "hidden": true
   },
   "outputs": [],
   "source": [
    "# Training accuracy score\n",
    "tree_clf.score(data_train, y_train)"
   ]
  },
  {
   "cell_type": "code",
   "execution_count": null,
   "metadata": {
    "ExecuteTime": {
     "end_time": "2020-06-23T20:44:53.554506Z",
     "start_time": "2020-06-23T20:44:53.549438Z"
    },
    "hidden": true
   },
   "outputs": [],
   "source": [
    "# Test accuracy score\n",
    "tree_clf.score(data_test, y_test)"
   ]
  },
  {
   "cell_type": "code",
   "execution_count": null,
   "metadata": {
    "hidden": true
   },
   "outputs": [],
   "source": []
  },
  {
   "cell_type": "markdown",
   "metadata": {
    "hidden": true
   },
   "source": [
    "## Random Forest"
   ]
  },
  {
   "cell_type": "markdown",
   "metadata": {
    "hidden": true
   },
   "source": [
    "### Random forest call"
   ]
  },
  {
   "attachments": {
    "image.png": {
     "image/png": "[encoded data removed]"
    }
   },
   "cell_type": "markdown",
   "metadata": {
    "hidden": true
   },
   "source": [
    "![image.png](attachment:image.png)"
   ]
  },
  {
   "cell_type": "code",
   "execution_count": null,
   "metadata": {
    "ExecuteTime": {
     "end_time": "2020-06-23T20:42:25.668412Z",
     "start_time": "2020-06-23T20:42:25.492448Z"
    },
    "hidden": true
   },
   "outputs": [],
   "source": [
    "# Instantiate and fit a RandomForestClassifier\n",
    "forest = RandomForestClassifier(n_estimators=100,random_state=10)\n",
    "forest.fit(data_train, y_train)"
   ]
  },
  {
   "cell_type": "code",
   "execution_count": null,
   "metadata": {
    "ExecuteTime": {
     "end_time": "2020-06-23T20:42:26.731120Z",
     "start_time": "2020-06-23T20:42:26.710459Z"
    },
    "hidden": true
   },
   "outputs": [],
   "source": [
    "# Forest with genus\n",
    "predrf = forest.predict(data_test)\n",
    "\n",
    "# Confusion matrix and classification report\n",
    "print(confusion_matrix(y_test, predrf))\n",
    "print(classification_report(y_test, predrf))"
   ]
  },
  {
   "cell_type": "code",
   "execution_count": null,
   "metadata": {
    "ExecuteTime": {
     "end_time": "2020-06-23T20:42:29.606628Z",
     "start_time": "2020-06-23T20:42:29.455929Z"
    },
    "hidden": true
   },
   "outputs": [],
   "source": [
    "cm = confusion_matrix(y_test, predrf)\n",
    "classes = ['Edible', 'Inedible']\n",
    "plot_confusion_matrix(cm, classes,\n",
    "                          normalize=False,\n",
    "                          title='Confusion matrix',\n",
    "                          cmap=plt.cm.Blues)"
   ]
  },
  {
   "cell_type": "code",
   "execution_count": null,
   "metadata": {
    "ExecuteTime": {
     "end_time": "2020-06-23T20:42:30.726396Z",
     "start_time": "2020-06-23T20:42:30.703260Z"
    },
    "hidden": true
   },
   "outputs": [],
   "source": [
    "# Training accuracy score\n",
    "forest.score(data_train, y_train)"
   ]
  },
  {
   "cell_type": "code",
   "execution_count": null,
   "metadata": {
    "ExecuteTime": {
     "end_time": "2020-06-23T20:26:48.195295Z",
     "start_time": "2020-06-23T20:26:46.484682Z"
    },
    "hidden": true
   },
   "outputs": [],
   "source": [
    "plot_feature_importances(forest)"
   ]
  },
  {
   "cell_type": "code",
   "execution_count": null,
   "metadata": {
    "ExecuteTime": {
     "end_time": "2020-06-23T20:42:34.315793Z",
     "start_time": "2020-06-23T20:42:34.299165Z"
    },
    "hidden": true
   },
   "outputs": [],
   "source": [
    "# Test accuracy score\n",
    "forest.score(data_test, y_test)"
   ]
  },
  {
   "cell_type": "markdown",
   "metadata": {
    "heading_collapsed": true,
    "hidden": true
   },
   "source": [
    "### Now get ROC for Random Forest (currently under repair)"
   ]
  },
  {
   "cell_type": "code",
   "execution_count": null,
   "metadata": {
    "ExecuteTime": {
     "end_time": "2019-12-14T22:41:14.633404Z",
     "start_time": "2019-12-14T22:41:14.629683Z"
    },
    "hidden": true,
    "scrolled": true
   },
   "outputs": [],
   "source": [
    "predrf"
   ]
  },
  {
   "cell_type": "code",
   "execution_count": null,
   "metadata": {
    "ExecuteTime": {
     "end_time": "2019-12-14T22:43:08.546904Z",
     "start_time": "2019-12-14T22:43:08.542862Z"
    },
    "hidden": true
   },
   "outputs": [],
   "source": [
    "np.array(y_test)"
   ]
  },
  {
   "cell_type": "code",
   "execution_count": null,
   "metadata": {
    "ExecuteTime": {
     "end_time": "2019-12-14T22:43:25.689544Z",
     "start_time": "2019-12-14T22:43:25.685840Z"
    },
    "hidden": true
   },
   "outputs": [],
   "source": [
    "fpr"
   ]
  },
  {
   "cell_type": "code",
   "execution_count": null,
   "metadata": {
    "ExecuteTime": {
     "end_time": "2019-12-14T22:43:18.051611Z",
     "start_time": "2019-12-14T22:43:17.879762Z"
    },
    "hidden": true
   },
   "outputs": [],
   "source": [
    "fpr, tpr, thresholds = metrics.roc_curve(y_test, predrf)\n",
    "plt.plot(fpr, tpr)\n",
    "plt.xlim([0.0, 1.0])\n",
    "plt.ylim([0.0, 1.0])\n",
    "plt.title('ROC curve for random forest')\n",
    "plt.xlabel('False Positive Rate (1 - Specificity)')\n",
    "plt.ylabel('True Positive Rate (Sensitivity)')\n",
    "plt.grid(True)"
   ]
  },
  {
   "cell_type": "markdown",
   "metadata": {
    "heading_collapsed": true,
    "hidden": true
   },
   "source": [
    "## Logistic Regression"
   ]
  },
  {
   "cell_type": "code",
   "execution_count": null,
   "metadata": {
    "ExecuteTime": {
     "end_time": "2020-06-22T20:36:14.719568Z",
     "start_time": "2020-06-22T20:36:14.691944Z"
    },
    "hidden": true
   },
   "outputs": [],
   "source": [
    "data = pd.get_dummies(df.drop(columns=['name', 'howEdible', 'genus']))\n",
    "y = df['howEdible']\n",
    "y=y.map({'edible': 1, 'inedible': 0})\n",
    "#break up data for testing and training\n",
    "X_train, X_test, y_train, y_test = train_test_split(data, y,test_size=.2)\n",
    "data.head()"
   ]
  },
  {
   "cell_type": "code",
   "execution_count": null,
   "metadata": {
    "ExecuteTime": {
     "end_time": "2020-06-22T20:36:26.855832Z",
     "start_time": "2020-06-22T20:36:26.784022Z"
    },
    "hidden": true
   },
   "outputs": [],
   "source": [
    "from sklearn.linear_model import LogisticRegression\n",
    "\n",
    "logreg = LogisticRegression()\n",
    "logreg.fit(X_train, y_train)"
   ]
  },
  {
   "cell_type": "code",
   "execution_count": null,
   "metadata": {
    "ExecuteTime": {
     "end_time": "2020-06-22T20:36:40.316277Z",
     "start_time": "2020-06-22T20:36:40.310485Z"
    },
    "hidden": true
   },
   "outputs": [],
   "source": [
    "#idk if this works for classification\n",
    "dictionary = dict(zip(list(X_train.columns), list(logreg.coef_[0])))\n",
    "dictionary"
   ]
  },
  {
   "cell_type": "code",
   "execution_count": null,
   "metadata": {
    "ExecuteTime": {
     "end_time": "2020-06-22T20:37:26.062310Z",
     "start_time": "2020-06-22T20:37:26.059185Z"
    },
    "hidden": true
   },
   "outputs": [],
   "source": [
    "# make class predictions for the testing set\n",
    "y_pred_class = logreg.predict(X_test)"
   ]
  },
  {
   "cell_type": "code",
   "execution_count": null,
   "metadata": {
    "ExecuteTime": {
     "end_time": "2020-06-22T20:37:29.802871Z",
     "start_time": "2020-06-22T20:37:29.799417Z"
    },
    "hidden": true
   },
   "outputs": [],
   "source": [
    "# calculate accuracy\n",
    "from sklearn import metrics\n",
    "print(metrics.accuracy_score(y_test, y_pred_class))"
   ]
  },
  {
   "cell_type": "code",
   "execution_count": null,
   "metadata": {
    "ExecuteTime": {
     "end_time": "2019-12-17T17:02:38.838268Z",
     "start_time": "2019-12-17T17:02:38.829984Z"
    },
    "hidden": true,
    "scrolled": true
   },
   "outputs": [],
   "source": [
    "# Confusion matrix and classification report\n",
    "print(confusion_matrix(y_test, y_pred_class))\n",
    "print(classification_report(y_test, y_pred_class))"
   ]
  },
  {
   "cell_type": "code",
   "execution_count": null,
   "metadata": {
    "ExecuteTime": {
     "end_time": "2019-12-17T17:02:39.440133Z",
     "start_time": "2019-12-17T17:02:39.429215Z"
    },
    "hidden": true
   },
   "outputs": [],
   "source": [
    "cm = confusion_matrix(y_test, y_pred_class)\n",
    "classes = ['Edible', 'Inedible']\n",
    "plot_confusion_matrix(cm, classes,\n",
    "                          normalize=False,\n",
    "                          title='Confusion matrix',\n",
    "                          cmap=plt.cm.Blues)"
   ]
  },
  {
   "cell_type": "code",
   "execution_count": null,
   "metadata": {
    "ExecuteTime": {
     "end_time": "2019-12-17T17:02:40.231651Z",
     "start_time": "2019-12-17T17:02:40.049979Z"
    },
    "hidden": true
   },
   "outputs": [],
   "source": [
    "fpr, tpr, thresholds = metrics.roc_curve(y_test, y_pred_class)\n",
    "plt.plot(fpr, tpr)\n",
    "plt.xlim([0.0, 1.0])\n",
    "plt.ylim([0.0, 1.0])\n",
    "plt.title('ROC curve for Logistic Regression')\n",
    "plt.xlabel('False Positive Rate (1 - Specificity)')\n",
    "plt.ylabel('True Positive Rate (Sensitivity)')\n",
    "plt.grid(True)"
   ]
  },
  {
   "cell_type": "code",
   "execution_count": null,
   "metadata": {
    "ExecuteTime": {
     "end_time": "2019-12-14T23:26:38.795525Z",
     "start_time": "2019-12-14T23:26:38.791487Z"
    },
    "hidden": true
   },
   "outputs": [],
   "source": [
    "y_pred_class"
   ]
  },
  {
   "cell_type": "markdown",
   "metadata": {
    "heading_collapsed": true,
    "hidden": true
   },
   "source": [
    "## Reassign features and Target Variables"
   ]
  },
  {
   "cell_type": "code",
   "execution_count": null,
   "metadata": {
    "ExecuteTime": {
     "end_time": "2019-12-14T21:14:58.418590Z",
     "start_time": "2019-12-14T21:14:58.390836Z"
    },
    "hidden": true
   },
   "outputs": [],
   "source": [
    "# data = pd.get_dummies(df.drop(columns=['name', 'howEdible', 'genus']))\n",
    "# y = df['howEdible']\n",
    "# #break up data for testing and training\n",
    "# data_train, data_test, y_train, y_test = train_test_split(data, y,test_size=.2)\n",
    "# data.head()"
   ]
  },
  {
   "cell_type": "markdown",
   "metadata": {
    "heading_collapsed": true,
    "hidden": true
   },
   "source": [
    "## Use XGBoost on df without genus"
   ]
  },
  {
   "cell_type": "code",
   "execution_count": null,
   "metadata": {
    "ExecuteTime": {
     "end_time": "2020-06-22T20:38:34.691735Z",
     "start_time": "2020-06-22T20:38:34.609721Z"
    },
    "hidden": true
   },
   "outputs": [],
   "source": [
    "from xgboost import XGBClassifier"
   ]
  },
  {
   "cell_type": "code",
   "execution_count": null,
   "metadata": {
    "ExecuteTime": {
     "end_time": "2020-06-22T20:39:22.124287Z",
     "start_time": "2020-06-22T20:39:22.121754Z"
    },
    "hidden": true
   },
   "outputs": [],
   "source": [
    "# Instantiate XGBClassifier\n",
    "clf = XGBClassifier(n_estimators=1000,random_state=1)"
   ]
  },
  {
   "cell_type": "code",
   "execution_count": null,
   "metadata": {
    "ExecuteTime": {
     "end_time": "2020-06-22T20:39:24.683709Z",
     "start_time": "2020-06-22T20:39:23.485719Z"
    },
    "hidden": true
   },
   "outputs": [],
   "source": [
    "# Fit XGBClassifier\n",
    "clf.fit(data_train, y_train)"
   ]
  },
  {
   "cell_type": "code",
   "execution_count": null,
   "metadata": {
    "ExecuteTime": {
     "end_time": "2020-06-22T20:39:26.335797Z",
     "start_time": "2020-06-22T20:39:26.313865Z"
    },
    "hidden": true
   },
   "outputs": [],
   "source": [
    "# Predict on training and test sets\n",
    "training_preds_XG = clf.predict(data_train)\n",
    "test_preds_XG = clf.predict(data_test)\n",
    "\n",
    "# Accuracy of training and test sets\n",
    "training_accuracy = accuracy_score(y_train, training_preds_XG)\n",
    "test_accuracy = accuracy_score(y_test, test_preds_XG)"
   ]
  },
  {
   "cell_type": "code",
   "execution_count": null,
   "metadata": {
    "ExecuteTime": {
     "end_time": "2020-06-22T20:39:27.292558Z",
     "start_time": "2020-06-22T20:39:27.289046Z"
    },
    "hidden": true
   },
   "outputs": [],
   "source": [
    "print('Training Accuracy: {:.4}%'.format(training_accuracy * 100))\n",
    "print('Validation accuracy: {:.4}%'.format(test_accuracy * 100))"
   ]
  },
  {
   "cell_type": "code",
   "execution_count": null,
   "metadata": {
    "ExecuteTime": {
     "end_time": "2020-06-22T20:39:41.452081Z",
     "start_time": "2020-06-22T20:39:41.443886Z"
    },
    "hidden": true
   },
   "outputs": [],
   "source": [
    "# Confusion matrix and classification report\n",
    "print(confusion_matrix(y_test, test_preds_XG))\n",
    "print(classification_report(y_test, test_preds_XG))"
   ]
  },
  {
   "cell_type": "code",
   "execution_count": null,
   "metadata": {
    "ExecuteTime": {
     "end_time": "2020-06-22T20:39:46.751712Z",
     "start_time": "2020-06-22T20:39:46.596231Z"
    },
    "hidden": true
   },
   "outputs": [],
   "source": [
    "cm = confusion_matrix(y_test, test_preds_XG)\n",
    "classes = ['Edible', 'Inedible']\n",
    "plot_confusion_matrix(cm, classes,\n",
    "                          normalize=False,\n",
    "                          title='Confusion matrix',\n",
    "                          cmap=plt.cm.Blues)"
   ]
  },
  {
   "cell_type": "code",
   "execution_count": null,
   "metadata": {
    "ExecuteTime": {
     "end_time": "2020-06-22T20:39:50.810938Z",
     "start_time": "2020-06-22T20:39:50.793303Z"
    },
    "hidden": true,
    "scrolled": true
   },
   "outputs": [],
   "source": [
    "clf.score(data_train, y_train)"
   ]
  },
  {
   "cell_type": "code",
   "execution_count": null,
   "metadata": {
    "ExecuteTime": {
     "end_time": "2020-06-22T20:39:51.244238Z",
     "start_time": "2020-06-22T20:39:51.235772Z"
    },
    "hidden": true
   },
   "outputs": [],
   "source": [
    "# Test accuracy score\n",
    "clf.score(data_test, y_test)"
   ]
  },
  {
   "cell_type": "markdown",
   "metadata": {
    "hidden": true
   },
   "source": [
    "## Gridsearch CV\n"
   ]
  },
  {
   "cell_type": "code",
   "execution_count": null,
   "metadata": {
    "ExecuteTime": {
     "end_time": "2020-06-22T20:42:01.628808Z",
     "start_time": "2020-06-22T20:40:55.141981Z"
    },
    "hidden": true
   },
   "outputs": [],
   "source": [
    "from sklearn.model_selection import GridSearchCV\n",
    "#tuning process\n",
    "param_grid = {\n",
    "    'learning_rate': [0.1, ],\n",
    "    'max_depth': [8,10,12],\n",
    "    'min_child_weight': [1],\n",
    "    'subsample': [0.5,.7],\n",
    "    'n_estimators': [500,2000],\n",
    "}\n",
    "\n",
    "grid_clf = GridSearchCV(clf, param_grid, scoring='accuracy', cv=3, n_jobs=1)\n",
    "grid_clf.fit(data_train, y_train)\n",
    "\n",
    "best_parameters = grid_clf.best_params_\n",
    "\n",
    "print('Grid Search found the following optimal parameters: ')\n",
    "for param_name in sorted(best_parameters.keys()):\n",
    "    print('%s: %r' % (param_name, best_parameters[param_name]))\n",
    "\n",
    "training_preds = grid_clf.predict(data_train)\n",
    "test_preds = grid_clf.predict(data_test)\n",
    "training_accuracy = accuracy_score(y_train, training_preds)\n",
    "test_accuracy = accuracy_score(y_test, test_preds)"
   ]
  },
  {
   "cell_type": "code",
   "execution_count": null,
   "metadata": {
    "ExecuteTime": {
     "end_time": "2020-06-22T20:44:53.844294Z",
     "start_time": "2020-06-22T20:44:53.841099Z"
    },
    "hidden": true
   },
   "outputs": [],
   "source": [
    "print('Training Accuracy: {:.4}%'.format(training_accuracy * 100))\n",
    "print('Validation accuracy: {:.4}%'.format(test_accuracy * 100))"
   ]
  },
  {
   "cell_type": "code",
   "execution_count": null,
   "metadata": {
    "ExecuteTime": {
     "end_time": "2020-06-22T20:45:01.480532Z",
     "start_time": "2020-06-22T20:45:01.333110Z"
    },
    "hidden": true
   },
   "outputs": [],
   "source": [
    "cm = confusion_matrix(y_test, test_preds)\n",
    "classes = ['Edible', 'Inedible']\n",
    "plot_confusion_matrix(cm, classes,\n",
    "                          normalize=False,\n",
    "                          title='Confusion matrix',\n",
    "                          cmap=plt.cm.Blues)"
   ]
  },
  {
   "cell_type": "markdown",
   "metadata": {
    "heading_collapsed": true,
    "hidden": true
   },
   "source": [
    "### Look at AUC and ROC curves"
   ]
  },
  {
   "cell_type": "code",
   "execution_count": null,
   "metadata": {
    "hidden": true
   },
   "outputs": [],
   "source": []
  }
 ],
 "metadata": {
  "kernelspec": {
   "display_name": "Python 3",
   "language": "python",
   "name": "python3"
  },
  "language_info": {
   "codemirror_mode": {
    "name": "ipython",
    "version": 3
   },
   "file_extension": ".py",
   "mimetype": "text/x-python",
   "name": "python",
   "nbconvert_exporter": "python",
   "pygments_lexer": "ipython3",
   "version": "3.7.7"
  },
  "varInspector": {
   "cols": {
    "lenName": 16,
    "lenType": 16,
    "lenVar": 40
   },
   "kernels_config": {
    "python": {
     "delete_cmd_postfix": "",
     "delete_cmd_prefix": "del ",
     "library": "var_list.py",
     "varRefreshCmd": "print(var_dic_list())"
    },
    "r": {
     "delete_cmd_postfix": ") ",
     "delete_cmd_prefix": "rm(",
     "library": "var_list.r",
     "varRefreshCmd": "cat(var_dic_list()) "
    }
   },
   "oldHeight": 378,
   "position": {
    "height": "40px",
    "left": "1303px",
    "right": "20px",
    "top": "120px",
    "width": "357px"
   },
   "types_to_exclude": [
    "module",
    "function",
    "builtin_function_or_method",
    "instance",
    "_Feature"
   ],
   "varInspector_section_display": "none",
   "window_display": false
  }
 },
 "nbformat": 4,
 "nbformat_minor": 2
}
