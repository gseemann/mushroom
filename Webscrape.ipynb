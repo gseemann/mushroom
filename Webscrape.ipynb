{
 "cells": [
  {
   "cell_type": "code",
   "execution_count": null,
   "metadata": {},
   "outputs": [],
   "source": []
  },
  {
   "cell_type": "code",
   "execution_count": null,
   "metadata": {},
   "outputs": [],
   "source": [
    "#Payscale Universities Scraping with Beautiful Soup\n",
    "\n",
    "# import config\n",
    "# import query_helper\n",
    "import json\n",
    "import requests\n",
    "from bs4 import BeautifulSoup\n",
    "# api_key = config.API_key\n",
    "# import time \n",
    "# import mysql.connector\n",
    "# from mysql.connector import errorcode\n",
    "# import pandas as pd\n",
    "# import query_helper\n",
    "\n",
    "\n",
    "#set up iterator to got through pages\n",
    "def get_pages(web_page_iterator):\n",
    "\n",
    "    web_addrs = \"https://www.payscale.com/college-salary-report/bachelors/page/{}\".format(str(web_page_iterator))\n",
    "\n",
    "    #get first page and go through results\n",
    "    page = requests.get(web_addrs)\n",
    "    soup = BeautifulSoup(page.content, 'html.parser')\n",
    "    soup_1 = soup.find('tbody')\n",
    "    soup_uni_names = soup_1.find_all(class_=\"datatable-logo__text\")\n",
    "    uni_names = [uni.get_text() for uni in soup_uni_names]\n",
    "    soup_uni_type = soup_1.find_all(class_=\"pxl-hidden-sm-down text-center\")\n",
    "    uni_type = [i.get_text() for i in soup_uni_type]\n",
    "\n",
    "    #create a dictionary for the current list of items were looking at\n",
    "    list_of_dict = []\n",
    "    temp_dict_ ={}\n",
    "    for i in uni_names:\n",
    "        temp_dict_['university']=i\n",
    "        list_of_dict.append(temp_dict_.copy())  \n",
    "\n",
    "    #add all the variables to each respective universities dictionary\n",
    "    i = -1 #use this to control iteration thru list_of_dict\n",
    "    for counter, value in enumerate(uni_type):\n",
    "        if counter%6==0:\n",
    "            i+=1 #iterate to next college in list\n",
    "            continue\n",
    "        elif(counter%6==1):\n",
    "            list_of_dict[i]['uni_type']=value\n",
    "        elif(counter%6==2):\n",
    "            list_of_dict[i]['early_car_pay']= (int((value.strip('$').replace(',',''))))\n",
    "        elif(counter%6==3):\n",
    "            list_of_dict[i]['med_car_pay']=(int((value.strip('$').replace(',',''))))\n",
    "        elif(counter%6==4):\n",
    "            if value =='N/A':\n",
    "                list_of_dict[i]['high_meaning']= 0\n",
    "            else:\n",
    "                list_of_dict[i]['high_meaning']= float(value.strip('%'))\n",
    "        else:\n",
    "            list_of_dict[i]['stem_deg']= float(value.strip('%'))\n",
    "                \n",
    "    return list_of_dict"
   ]
  },
  {
   "cell_type": "code",
   "execution_count": 1,
   "metadata": {},
   "outputs": [],
   "source": [
    "import json\n",
    "import requests\n",
    "from bs4 import BeautifulSoup"
   ]
  },
  {
   "cell_type": "code",
   "execution_count": 9,
   "metadata": {},
   "outputs": [
    {
     "name": "stdout",
     "output_type": "stream",
     "text": [
      "403\n"
     ]
    },
    {
     "data": {
      "text/plain": [
       "Robots are not allowed on this page."
      ]
     },
     "execution_count": 9,
     "metadata": {},
     "output_type": "execute_result"
    }
   ],
   "source": [
    "web_addrs = \"https://mushroomobserver.org/name/index_name?by=name&page={}&q=13Kcd\".format(str(1))\n",
    "\n",
    "#get first page and go through results\n",
    "page = requests.get(web_addrs)\n",
    "print(page.status_code)\n",
    "soup = BeautifulSoup(page.content, 'html.parser')\n",
    "\n",
    "soup\n",
    "# soup_1 = soup.find('tbody')\n",
    "# soup_1\n",
    "    \n",
    "    \n",
    "    \n",
    "    \n",
    "    \n",
    "    \n",
    "    \n",
    "    \n",
    "    \n",
    "#     soup_uni_names = soup_1.find_all(class_=\"table table-striped\")\n",
    "#     uni_names = [uni.get_text() for uni in soup_uni_names]\n",
    "#     soup_uni_type = soup_1.find_all(class_=\"pxl-hidden-sm-down text-center\")\n",
    "#     uni_type = [i.get_text() for i in soup_uni_type]\n",
    "\n",
    "#     #create a dictionary for the current list of items were looking at\n",
    "#     list_of_dict = []\n",
    "#     temp_dict_ ={}\n",
    "#     for i in uni_names:\n",
    "#         temp_dict_['university']=i\n",
    "#         list_of_dict.append(temp_dict_.copy())"
   ]
  },
  {
   "cell_type": "code",
   "execution_count": 7,
   "metadata": {},
   "outputs": [
    {
     "data": {
      "text/plain": [
       "NoneType"
      ]
     },
     "execution_count": 7,
     "metadata": {},
     "output_type": "execute_result"
    }
   ],
   "source": []
  },
  {
   "cell_type": "code",
   "execution_count": null,
   "metadata": {},
   "outputs": [],
   "source": []
  }
 ],
 "metadata": {
  "kernelspec": {
   "display_name": "Python 3",
   "language": "python",
   "name": "python3"
  },
  "language_info": {
   "codemirror_mode": {
    "name": "ipython",
    "version": 3
   },
   "file_extension": ".py",
   "mimetype": "text/x-python",
   "name": "python",
   "nbconvert_exporter": "python",
   "pygments_lexer": "ipython3",
   "version": "3.7.3"
  }
 },
 "nbformat": 4,
 "nbformat_minor": 2
}
